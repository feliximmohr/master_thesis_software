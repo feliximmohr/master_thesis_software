{
 "cells": [
  {
   "cell_type": "code",
   "execution_count": 1,
   "metadata": {},
   "outputs": [
    {
     "name": "stderr",
     "output_type": "stream",
     "text": [
      "Using TensorFlow backend.\n"
     ]
    }
   ],
   "source": [
    "from __future__ import print_function\n",
    "\n",
    "import numpy as np\n",
    "import pandas as pd\n",
    "import matplotlib.pyplot as plt\n",
    "from os import walk\n",
    "\n",
    "from sklearn.model_selection import train_test_split\n",
    "from sklearn import preprocessing\n",
    "\n",
    "import keras\n",
    "from keras.models import Sequential\n",
    "from keras.layers import Dense, Dropout\n",
    "from keras.optimizers import RMSprop, SGD\n",
    "\n",
    "import custom_loss_functions as c_loss"
   ]
  },
  {
   "cell_type": "code",
   "execution_count": 2,
   "metadata": {},
   "outputs": [],
   "source": [
    "def simple_model():\n",
    "    \"\"\"Define simple model\"\"\"\n",
    "    # create model\n",
    "    model = Sequential()\n",
    "    model.add(Dense(128, activation='relu', input_shape=(96,)))\n",
    "    model.add(Dense(128, activation='relu'))\n",
    "    model.add(Dense(1, activation='linear'))\n",
    "    # show info\n",
    "    model.summary()\n",
    "    # compile model\n",
    "    model.compile(loss = c_loss.mse_wrap_angle,\n",
    "                  optimizer = 'adam',\n",
    "                  metrics = [c_loss.mae_wrap_angle])\n",
    "    return model"
   ]
  },
  {
   "cell_type": "markdown",
   "metadata": {},
   "source": [
    "## Training"
   ]
  },
  {
   "cell_type": "code",
   "execution_count": 3,
   "metadata": {},
   "outputs": [],
   "source": [
    "# define training parameters\n",
    "batch_size = 1\n",
    "num_epochs = 10"
   ]
  },
  {
   "cell_type": "code",
   "execution_count": 4,
   "metadata": {},
   "outputs": [],
   "source": [
    "# define dataset directory\n",
    "data_dir = '/media/feliximmohr/Storage/master_thesis/generated/database/' \n",
    "# load filelist\n",
    "filelist = []\n",
    "for (dirpath, dirnames, filenames) in walk(data_dir):\n",
    "    filelist.extend(filenames)\n",
    "    \n",
    "# load column labels only\n",
    "column_label = pd.read_csv(data_dir+filelist[1], nrows=1).columns.tolist()\n",
    "feature_label = [s for s in column_label if (\"ILD\"  in s or \"ITD\" in s or \"IC\" in s)]\n",
    "target_label = 'Localization_Azimuth'"
   ]
  },
  {
   "cell_type": "code",
   "execution_count": null,
   "metadata": {},
   "outputs": [],
   "source": []
  },
  {
   "cell_type": "code",
   "execution_count": 5,
   "metadata": {},
   "outputs": [],
   "source": [
    "# normalization + train_test_split\n",
    "\n",
    "# load data\n",
    "data = pd.read_csv(data_dir+filelist[60])\n",
    "#test_data = pd.read_csv(data_dir+filelist[61])\n",
    "\n",
    "# define scaler\n",
    "minmax_scaler = preprocessing.MinMaxScaler(feature_range=(0, 1))\n",
    "minmax_scaler.partial_fit(data[feature_label])\n",
    "#minmax_scaler.partial_fit(test_data[feature_label])\n",
    "\n",
    "std_scale = preprocessing.StandardScaler().fit(data[feature_label])\n",
    "\n",
    "# perform train_test_split\n",
    "train, test = train_test_split(data, test_size=0.2)\n",
    "\n",
    "# perform scaling\n",
    "train_minmax = minmax_scaler.transform(train[feature_label])\n",
    "test_minmax = minmax_scaler.transform(test[feature_label])\n",
    "train_std = std_scale.transform(train[feature_label])\n",
    "test_std = std_scale.transform(test[feature_label])\n",
    "\n",
    "x_train = train_minmax\n",
    "y_train = train[target_label]\n",
    "x_test = test_minmax\n",
    "y_test = test[target_label]"
   ]
  },
  {
   "cell_type": "code",
   "execution_count": 6,
   "metadata": {
    "scrolled": false
   },
   "outputs": [
    {
     "name": "stderr",
     "output_type": "stream",
     "text": [
      "WARNING: Logging before flag parsing goes to stderr.\n",
      "W0902 19:35:21.135074 140504774072128 deprecation_wrapper.py:119] From /home/feliximmohr/anaconda3/lib/python3.7/site-packages/keras/backend/tensorflow_backend.py:74: The name tf.get_default_graph is deprecated. Please use tf.compat.v1.get_default_graph instead.\n",
      "\n",
      "W0902 19:35:21.156518 140504774072128 deprecation_wrapper.py:119] From /home/feliximmohr/anaconda3/lib/python3.7/site-packages/keras/backend/tensorflow_backend.py:517: The name tf.placeholder is deprecated. Please use tf.compat.v1.placeholder instead.\n",
      "\n",
      "W0902 19:35:21.161090 140504774072128 deprecation_wrapper.py:119] From /home/feliximmohr/anaconda3/lib/python3.7/site-packages/keras/backend/tensorflow_backend.py:4138: The name tf.random_uniform is deprecated. Please use tf.random.uniform instead.\n",
      "\n",
      "W0902 19:35:21.211896 140504774072128 deprecation_wrapper.py:119] From /home/feliximmohr/anaconda3/lib/python3.7/site-packages/keras/optimizers.py:790: The name tf.train.Optimizer is deprecated. Please use tf.compat.v1.train.Optimizer instead.\n",
      "\n"
     ]
    },
    {
     "name": "stdout",
     "output_type": "stream",
     "text": [
      "_________________________________________________________________\n",
      "Layer (type)                 Output Shape              Param #   \n",
      "=================================================================\n",
      "dense_1 (Dense)              (None, 128)               12416     \n",
      "_________________________________________________________________\n",
      "dense_2 (Dense)              (None, 128)               16512     \n",
      "_________________________________________________________________\n",
      "dense_3 (Dense)              (None, 1)                 129       \n",
      "=================================================================\n",
      "Total params: 29,057\n",
      "Trainable params: 29,057\n",
      "Non-trainable params: 0\n",
      "_________________________________________________________________\n"
     ]
    },
    {
     "name": "stderr",
     "output_type": "stream",
     "text": [
      "W0902 19:35:21.420001 140504774072128 deprecation_wrapper.py:119] From /home/feliximmohr/anaconda3/lib/python3.7/site-packages/keras/backend/tensorflow_backend.py:986: The name tf.assign_add is deprecated. Please use tf.compat.v1.assign_add instead.\n",
      "\n",
      "W0902 19:35:21.607722 140504774072128 deprecation_wrapper.py:119] From /home/feliximmohr/anaconda3/lib/python3.7/site-packages/keras/backend/tensorflow_backend.py:973: The name tf.assign is deprecated. Please use tf.compat.v1.assign instead.\n",
      "\n"
     ]
    },
    {
     "name": "stdout",
     "output_type": "stream",
     "text": [
      "Train on 403200 samples, validate on 172800 samples\n",
      "Epoch 1/10\n",
      "403200/403200 [==============================] - 34s 85us/step - loss: 472.7009 - mae_wrap_angle: 11.1844 - val_loss: 162.7915 - val_mae_wrap_angle: 7.5278\n",
      "Epoch 2/10\n",
      "403200/403200 [==============================] - 34s 85us/step - loss: 174.2412 - mae_wrap_angle: 7.4142 - val_loss: 318.0879 - val_mae_wrap_angle: 12.1893\n",
      "Epoch 3/10\n",
      "403200/403200 [==============================] - 34s 85us/step - loss: 160.0712 - mae_wrap_angle: 7.0573 - val_loss: 163.3533 - val_mae_wrap_angle: 6.9435\n",
      "Epoch 4/10\n",
      "403200/403200 [==============================] - 34s 84us/step - loss: 130.4777 - mae_wrap_angle: 6.5762 - val_loss: 185.9475 - val_mae_wrap_angle: 9.2253\n",
      "Epoch 5/10\n",
      "403200/403200 [==============================] - 34s 84us/step - loss: 127.3530 - mae_wrap_angle: 6.5256 - val_loss: 94.1252 - val_mae_wrap_angle: 5.6709\n",
      "Epoch 6/10\n",
      "403200/403200 [==============================] - 35s 87us/step - loss: 104.6751 - mae_wrap_angle: 6.0543 - val_loss: 91.9470 - val_mae_wrap_angle: 5.6785\n",
      "Epoch 7/10\n",
      "403200/403200 [==============================] - 35s 87us/step - loss: 96.3886 - mae_wrap_angle: 5.9792 - val_loss: 85.7631 - val_mae_wrap_angle: 5.5994\n",
      "Epoch 8/10\n",
      "403200/403200 [==============================] - 34s 85us/step - loss: 92.1087 - mae_wrap_angle: 5.9158 - val_loss: 78.2589 - val_mae_wrap_angle: 5.8097\n",
      "Epoch 9/10\n",
      "403200/403200 [==============================] - 35s 86us/step - loss: 100.5786 - mae_wrap_angle: 6.0825 - val_loss: 79.3591 - val_mae_wrap_angle: 5.6741\n",
      "Epoch 10/10\n",
      "403200/403200 [==============================] - 35s 86us/step - loss: 81.4684 - mae_wrap_angle: 5.7277 - val_loss: 72.6749 - val_mae_wrap_angle: 5.6341\n"
     ]
    }
   ],
   "source": [
    "# model.fit on entire dataset\n",
    "\n",
    "model = simple_model()\n",
    "\n",
    "history = model.fit(x_train, y_train,\n",
    "                    #batch_size=batch_size,\n",
    "                    epochs=num_epochs,\n",
    "                    verbose=1,\n",
    "                    validation_split=0.3)"
   ]
  },
  {
   "cell_type": "markdown",
   "metadata": {},
   "source": [
    "## Evaluation"
   ]
  },
  {
   "cell_type": "code",
   "execution_count": 7,
   "metadata": {},
   "outputs": [
    {
     "name": "stdout",
     "output_type": "stream",
     "text": [
      "Test loss: 73.26709940338135\n",
      "Test mae w wrap: 5.641507115364075\n"
     ]
    },
    {
     "data": {
      "image/png": "[encoded data removed]",
      "text/plain": [
       "<Figure size 432x288 with 1 Axes>"
      ]
     },
     "metadata": {
      "needs_background": "light"
     },
     "output_type": "display_data"
    }
   ],
   "source": [
    "# evaluate model\n",
    "score = model.evaluate(x_test, y_test, verbose=0)\n",
    "print('Test loss:', score[0])\n",
    "print('Test mae w wrap:', score[1])\n",
    "\n",
    "\n",
    "# plot train history\n",
    "plt.plot(history.history['loss'])\n",
    "plt.plot(history.history['val_loss'])\n",
    "plt.title('Model loss')\n",
    "plt.ylabel('Loss')\n",
    "plt.xlabel('Epoch')\n",
    "plt.legend(['Train', 'Test'], loc='upper left')\n",
    "plt.show()"
   ]
  },
  {
   "cell_type": "code",
   "execution_count": null,
   "metadata": {},
   "outputs": [],
   "source": [
    "#test_data = pd.read_csv(data_dir+filelist[68])\n",
    "test_features = test_data[feature_label].values\n",
    "test_features_minmax = minmax_scaler.transform(test_features)\n",
    "test_targets = test_data[target_label].values\n",
    "\n",
    "\n",
    "test_results = model.predict(test_features_minmax)"
   ]
  },
  {
   "cell_type": "code",
   "execution_count": 8,
   "metadata": {},
   "outputs": [],
   "source": [
    "test_results = model.predict(test_minmax)"
   ]
  },
  {
   "cell_type": "code",
   "execution_count": 12,
   "metadata": {},
   "outputs": [
    {
     "data": {
      "text/plain": [
       "array([[-145.43668  ],\n",
       "       [-162.66833  ],\n",
       "       [-193.725    ],\n",
       "       [-129.70116  ],\n",
       "       [  -2.5113537],\n",
       "       [  82.73407  ],\n",
       "       [ -34.898727 ],\n",
       "       [  98.94652  ],\n",
       "       [ -31.810322 ],\n",
       "       [ 125.075195 ],\n",
       "       [-171.77393  ],\n",
       "       [-129.32555  ],\n",
       "       [  18.897022 ],\n",
       "       [  79.63643  ],\n",
       "       [ -16.738945 ],\n",
       "       [-175.99945  ],\n",
       "       [  86.059364 ],\n",
       "       [ -68.51189  ],\n",
       "       [-149.78448  ],\n",
       "       [  79.59459  ],\n",
       "       [-147.32733  ],\n",
       "       [-129.05933  ],\n",
       "       [ 114.18793  ],\n",
       "       [-170.52371  ],\n",
       "       [ 104.79551  ],\n",
       "       [  31.326334 ],\n",
       "       [  69.28088  ],\n",
       "       [ -71.86018  ],\n",
       "       [ -10.710209 ],\n",
       "       [  20.355408 ],\n",
       "       [ 131.9858   ],\n",
       "       [ 124.6248   ],\n",
       "       [-158.48106  ],\n",
       "       [ 104.04699  ],\n",
       "       [ -91.23639  ],\n",
       "       [ -57.40291  ],\n",
       "       [   2.4821608],\n",
       "       [-165.00995  ],\n",
       "       [  17.962517 ],\n",
       "       [ -18.28059  ],\n",
       "       [-151.38188  ],\n",
       "       [  66.254555 ],\n",
       "       [ -88.613716 ],\n",
       "       [-107.95934  ],\n",
       "       [ 139.20056  ],\n",
       "       [ 113.52637  ],\n",
       "       [ 110.79774  ],\n",
       "       [  41.657696 ],\n",
       "       [ -23.286413 ],\n",
       "       [ -16.882767 ],\n",
       "       [ -41.839504 ],\n",
       "       [ 149.3556   ],\n",
       "       [ -15.200371 ],\n",
       "       [  -2.239641 ],\n",
       "       [ -20.794603 ],\n",
       "       [ 112.162544 ],\n",
       "       [  17.064568 ],\n",
       "       [  -2.5074275],\n",
       "       [  37.27642  ],\n",
       "       [ -25.203789 ],\n",
       "       [-179.68881  ],\n",
       "       [  22.642607 ],\n",
       "       [-177.40317  ],\n",
       "       [ -66.23747  ],\n",
       "       [ -73.41612  ],\n",
       "       [ -70.88271  ],\n",
       "       [-136.48645  ],\n",
       "       [ 116.30264  ],\n",
       "       [  -3.3797796],\n",
       "       [-172.48691  ],\n",
       "       [ 153.03474  ],\n",
       "       [  19.686134 ],\n",
       "       [-183.83379  ],\n",
       "       [  34.496735 ],\n",
       "       [ -30.274656 ],\n",
       "       [-128.5202   ],\n",
       "       [-110.76747  ],\n",
       "       [  22.642607 ],\n",
       "       [  90.27225  ],\n",
       "       [ -44.530495 ],\n",
       "       [-108.34664  ],\n",
       "       [-100.12902  ],\n",
       "       [  47.878517 ],\n",
       "       [ 120.7599   ],\n",
       "       [  64.26644  ],\n",
       "       [ -59.252094 ],\n",
       "       [ -45.93841  ],\n",
       "       [ -77.004776 ],\n",
       "       [ 106.18821  ],\n",
       "       [-118.73212  ],\n",
       "       [-172.12614  ],\n",
       "       [-144.30508  ],\n",
       "       [ -42.323708 ],\n",
       "       [  -2.352651 ],\n",
       "       [   6.5345087],\n",
       "       [-121.45629  ],\n",
       "       [  41.698338 ],\n",
       "       [ -77.989914 ],\n",
       "       [ -76.71671  ],\n",
       "       [-178.43683  ]], dtype=float32)"
      ]
     },
     "execution_count": 12,
     "metadata": {},
     "output_type": "execute_result"
    }
   ],
   "source": [
    "test_results[0:100]"
   ]
  },
  {
   "cell_type": "code",
   "execution_count": null,
   "metadata": {},
   "outputs": [],
   "source": [
    "# Save history to json file\n",
    "import json\n",
    "with open('file.json', 'w') as f:\n",
    "    json.dump(history.history, f)"
   ]
  },
  {
   "cell_type": "code",
   "execution_count": null,
   "metadata": {},
   "outputs": [],
   "source": [
    "from keras.models import load_model\n",
    "\n",
    "model.save('my_model.h5')  # creates a HDF5 file 'my_model.h5'\n",
    "del model  # deletes the existing model"
   ]
  },
  {
   "cell_type": "code",
   "execution_count": null,
   "metadata": {},
   "outputs": [],
   "source": [
    "# evaluate model\n",
    "score = model.evaluate(test_features, test_targets, verbose=0)\n",
    "print('Test loss:', score[0])\n",
    "print('Test accuracy:', score[1])\n",
    "print('Test accuracy:', score[2])"
   ]
  },
  {
   "cell_type": "code",
   "execution_count": 11,
   "metadata": {},
   "outputs": [
    {
     "ename": "NameError",
     "evalue": "name 'test_data' is not defined",
     "output_type": "error",
     "traceback": [
      "\u001b[0;31m---------------------------------------------------------------------------\u001b[0m",
      "\u001b[0;31mNameError\u001b[0m                                 Traceback (most recent call last)",
      "\u001b[0;32m<ipython-input-11-f8cc81f9f5b0>\u001b[0m in \u001b[0;36m<module>\u001b[0;34m\u001b[0m\n\u001b[0;32m----> 1\u001b[0;31m \u001b[0mtest_data\u001b[0m\u001b[0;34m[\u001b[0m\u001b[0;36m64000\u001b[0m\u001b[0;34m:\u001b[0m\u001b[0;36m64100\u001b[0m\u001b[0;34m]\u001b[0m\u001b[0;34m\u001b[0m\u001b[0;34m\u001b[0m\u001b[0m\n\u001b[0m",
      "\u001b[0;31mNameError\u001b[0m: name 'test_data' is not defined"
     ]
    }
   ],
   "source": [
    "test_data[64000:64100]"
   ]
  },
  {
   "cell_type": "code",
   "execution_count": 48,
   "metadata": {},
   "outputs": [],
   "source": [
    " test =y_test.values[0:100]-test_results[0:100,0]"
   ]
  },
  {
   "cell_type": "code",
   "execution_count": 56,
   "metadata": {},
   "outputs": [
    {
     "data": {
      "text/plain": [
       "array([ 2.30773903e+00, -3.62860204e+00,  3.65829455e+02,  2.68463562e+00,\n",
       "       -2.73060269e-01,  2.24940918e+00,  4.80140442e+00,  4.29876906e+00,\n",
       "       -5.65008192e-01,  5.49474687e-01,  2.47698878e+00,  5.30902526e+00,\n",
       "       -2.27235225e+00,  5.26624817e+00,  3.07571001e+00,  2.33621568e+00,\n",
       "        6.81169868e+00, -6.17552940e+00,  4.70916886e+00,  7.27647377e+00,\n",
       "        4.43178054e+00,  4.76238917e+00,  5.14883775e+00,  5.44839616e+00,\n",
       "        2.24372666e+00,  3.57634300e+00,  5.59017921e+00,  4.93705672e+00,\n",
       "        4.90156889e+00, -2.13982171e+00, -1.03224507e+00,  1.12778754e+01,\n",
       "       -6.62036016e+00, -1.18953354e+01,  6.16107316e+00,  6.59426833e+00,\n",
       "        8.38890219e+00, -3.65328627e+00, -6.25751785e-01,  5.47195006e+00,\n",
       "       -3.30553429e+00,  3.65047225e+00,  2.59719513e+00, -1.13816860e+01,\n",
       "        5.50250148e+00,  5.09830281e+00, -2.48515312e+00, -1.65060418e+01,\n",
       "        1.32564919e+00, -2.49256328e+00,  3.91637724e+00,  1.72126692e+00,\n",
       "       -3.58404321e+00, -1.46087050e+01,  4.97666348e-01, -6.84996025e+00,\n",
       "       -1.84898157e+00,  4.60976454e-01,  1.06034441e+00,  8.12847276e+00,\n",
       "        3.52642361e+02,  6.28207726e+00, -1.35154528e+00, -5.10355647e+00,\n",
       "        6.52057144e+00,  4.86619232e+00,  7.46992920e+00,  4.68083618e+00,\n",
       "        1.71654458e+00,  2.47038696e+00,  7.06970474e+00,  5.18492866e+00,\n",
       "        3.46515365e+02,  4.42794938e+00, -1.35736897e+01,  3.59707564e+00,\n",
       "       -5.01694269e+00,  2.06045626e+00, -2.05666131e+00,  2.60736769e+00,\n",
       "        6.53800154e+00, -2.97240331e+00,  2.19835585e+00, -1.01009320e+01,\n",
       "        6.63623565e+00,  1.01547713e+01, -1.04026173e+01, -3.70553999e-01,\n",
       "        4.14855547e+00, -3.31433430e+00, -6.82495591e-01, -2.74136677e+00,\n",
       "       -6.36370842e+00, -5.33476512e+00,  3.16855429e+00,  7.56074020e+00,\n",
       "       -3.48275155e+00,  1.20549994e+00, -6.60170805e+00,  2.68211561e+00])"
      ]
     },
     "execution_count": 56,
     "metadata": {},
     "output_type": "execute_result"
    }
   ],
   "source": [
    "test"
   ]
  },
  {
   "cell_type": "code",
   "execution_count": 65,
   "metadata": {},
   "outputs": [
    {
     "data": {
      "text/plain": [
       "172.104449"
      ]
     },
     "execution_count": 65,
     "metadata": {},
     "output_type": "execute_result"
    }
   ],
   "source": [
    "y_test.values[2]"
   ]
  },
  {
   "cell_type": "code",
   "execution_count": 66,
   "metadata": {},
   "outputs": [
    {
     "data": {
      "text/plain": [
       "array([-193.725], dtype=float32)"
      ]
     },
     "execution_count": 66,
     "metadata": {},
     "output_type": "execute_result"
    }
   ],
   "source": [
    "test_results[2]"
   ]
  },
  {
   "cell_type": "code",
   "execution_count": null,
   "metadata": {},
   "outputs": [],
   "source": []
  }
 ],
 "metadata": {
  "kernelspec": {
   "display_name": "Python 3",
   "language": "python",
   "name": "python3"
  },
  "language_info": {
   "codemirror_mode": {
    "name": "ipython",
    "version": 3
   },
   "file_extension": ".py",
   "mimetype": "text/x-python",
   "name": "python",
   "nbconvert_exporter": "python",
   "pygments_lexer": "ipython3",
   "version": "3.7.3"
  }
 },
 "nbformat": 4,
 "nbformat_minor": 2
}
