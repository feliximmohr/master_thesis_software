{
 "cells": [
  {
   "cell_type": "code",
   "execution_count": null,
   "metadata": {},
   "outputs": [],
   "source": [
    "from __future__ import print_function\n",
    "\n",
    "import numpy as np\n",
    "import pandas as pd\n",
    "import matplotlib.pyplot as plt\n",
    "from os import walk\n",
    "from os.path import splitext\n",
    "\n",
    "from sklearn.model_selection import train_test_split\n",
    "from sklearn import preprocessing\n",
    "\n",
    "import keras\n",
    "from keras.models import Sequential\n",
    "from keras.layers import Dense, Dropout\n",
    "from keras.optimizers import RMSprop, SGD\n",
    "\n",
    "import custom_loss_functions as cust_loss"
   ]
  },
  {
   "cell_type": "code",
   "execution_count": null,
   "metadata": {},
   "outputs": [],
   "source": [
    "def simple_model():\n",
    "    \"\"\"Define simple model\"\"\"\n",
    "    # create model\n",
    "    model = Sequential()\n",
    "    model.add(Dense(128, activation='relu', input_shape=(96,)))\n",
    "    model.add(Dense(128, activation='relu'))\n",
    "    model.add(Dense(1, activation='linear'))\n",
    "    # show info\n",
    "    model.summary()\n",
    "    # compile model\n",
    "    model.compile(loss = cust_loss.mse_wrap_angle,\n",
    "                  optimizer = 'adam',\n",
    "                  metrics = [cust_loss.mae_wrap_angle])\n",
    "    return model"
   ]
  },
  {
   "cell_type": "markdown",
   "metadata": {},
   "source": [
    "## Training"
   ]
  },
  {
   "cell_type": "code",
   "execution_count": null,
   "metadata": {},
   "outputs": [],
   "source": [
    "# define training parameters\n",
    "batch_size = 32\n",
    "num_epochs = 30"
   ]
  },
  {
   "cell_type": "code",
   "execution_count": null,
   "metadata": {},
   "outputs": [],
   "source": [
    "# define dataset directory\n",
    "data_dir = '/media/feliximmohr/Storage/master_thesis/generated/database/hdf5/' \n",
    "# load filelist\n",
    "filelist = []\n",
    "for (dirpath, dirnames, filenames) in walk(data_dir):\n",
    "    filelist.extend(filenames)\n",
    "_, file_ext = splitext(filelist[0])\n",
    "    \n",
    "# load column labels only\n",
    "if file_ext == '.h5':\n",
    "    column_label = pd.read_hdf(data_dir+filelist[0], nrows=1).columns.tolist()\n",
    "else:\n",
    "    column_label = pd.read_csv(data_dir+filelist[0], nrows=1).columns.tolist()\n",
    "\n",
    "feature_label = [s for s in column_label if (\"ILD\"  in s or \"ITD\" in s or \"IC\" in s)]\n",
    "target_label = 'Localization_Azimuth'"
   ]
  },
  {
   "cell_type": "code",
   "execution_count": null,
   "metadata": {},
   "outputs": [],
   "source": [
    "# normalization + train_test_split\n",
    "\n",
    "# load data\n",
    "data = pd.read_hdf(data_dir+filelist[62])\n",
    "#test_data = pd.read_csv(data_dir+filelist[61])\n",
    "\n",
    "# define scaler\n",
    "minmax_scaler = preprocessing.MinMaxScaler(feature_range=(0, 1))\n",
    "minmax_scaler.partial_fit(data[feature_label])\n",
    "#minmax_scaler.partial_fit(test_data[feature_label])\n",
    "\n",
    "#std_scale = preprocessing.StandardScaler().fit(data[feature_label])\n",
    "\n",
    "# perform train_test_split\n",
    "train, test = train_test_split(data, test_size=0.2)\n",
    "\n",
    "# perform scaling\n",
    "train_minmax = minmax_scaler.transform(train[feature_label])\n",
    "test_minmax = minmax_scaler.transform(test[feature_label])\n",
    "#train_std = std_scale.transform(train[feature_label])\n",
    "#test_std = std_scale.transform(test[feature_label])\n",
    "\n",
    "x_train = train_minmax\n",
    "y_train = train[target_label]\n",
    "x_test = test_minmax\n",
    "y_test = test[target_label]"
   ]
  },
  {
   "cell_type": "code",
   "execution_count": null,
   "metadata": {
    "scrolled": false
   },
   "outputs": [],
   "source": [
    "# model.fit on entire dataset\n",
    "\n",
    "model = simple_model()\n",
    "\n",
    "history = model.fit(x_train, y_train,\n",
    "                    #batch_size=batch_size,\n",
    "                    epochs=num_epochs,\n",
    "                    verbose=1,\n",
    "                    validation_split=0.2)"
   ]
  },
  {
   "cell_type": "markdown",
   "metadata": {},
   "source": [
    "## Evaluation"
   ]
  },
  {
   "cell_type": "code",
   "execution_count": null,
   "metadata": {},
   "outputs": [],
   "source": [
    "# evaluate model\n",
    "score = model.evaluate(x_test, y_test, verbose=0)\n",
    "print('Test loss:', score[0])\n",
    "print('Test mae w wrap:', score[1])\n",
    "\n",
    "\n",
    "# plot train history\n",
    "plt.plot(history.history['loss'])\n",
    "plt.plot(history.history['val_loss'])\n",
    "plt.title('Model loss')\n",
    "plt.ylabel('Loss')\n",
    "plt.xlabel('Epoch')\n",
    "plt.legend(['Train', 'Test'], loc='upper left')\n",
    "plt.show()"
   ]
  },
  {
   "cell_type": "code",
   "execution_count": null,
   "metadata": {},
   "outputs": [],
   "source": [
    "#test_data = pd.read_csv(data_dir+filelist[68])\n",
    "test_features = test_data[feature_label].values\n",
    "test_features_minmax = minmax_scaler.transform(test_features)\n",
    "test_targets = test_data[target_label].values\n",
    "\n",
    "\n",
    "test_results = model.predict(test_features_minmax)"
   ]
  },
  {
   "cell_type": "code",
   "execution_count": null,
   "metadata": {},
   "outputs": [],
   "source": [
    "test_results = model.predict(test_minmax)"
   ]
  },
  {
   "cell_type": "code",
   "execution_count": null,
   "metadata": {},
   "outputs": [],
   "source": [
    "test_results[0:100]"
   ]
  },
  {
   "cell_type": "code",
   "execution_count": null,
   "metadata": {},
   "outputs": [],
   "source": [
    "# Save history to json file\n",
    "import json\n",
    "with open('file.json', 'w') as f:\n",
    "    json.dump(history.history, f)"
   ]
  },
  {
   "cell_type": "code",
   "execution_count": null,
   "metadata": {},
   "outputs": [],
   "source": [
    "from keras.models import load_model\n",
    "\n",
    "model.save('my_model.h5')  # creates a HDF5 file 'my_model.h5'\n",
    "del model  # deletes the existing model"
   ]
  },
  {
   "cell_type": "code",
   "execution_count": null,
   "metadata": {},
   "outputs": [],
   "source": [
    "# evaluate model\n",
    "score = model.evaluate(test_features, test_targets, verbose=0)\n",
    "print('Test loss:', score[0])\n",
    "print('Test accuracy:', score[1])\n",
    "print('Test accuracy:', score[2])"
   ]
  },
  {
   "cell_type": "code",
   "execution_count": null,
   "metadata": {},
   "outputs": [],
   "source": []
  },
  {
   "cell_type": "code",
   "execution_count": null,
   "metadata": {},
   "outputs": [],
   "source": []
  },
  {
   "cell_type": "code",
   "execution_count": null,
   "metadata": {},
   "outputs": [],
   "source": []
  }
 ],
 "metadata": {
  "kernelspec": {
   "display_name": "Python 3",
   "language": "python",
   "name": "python3"
  },
  "language_info": {
   "codemirror_mode": {
    "name": "ipython",
    "version": 3
   },
   "file_extension": ".py",
   "mimetype": "text/x-python",
   "name": "python",
   "nbconvert_exporter": "python",
   "pygments_lexer": "ipython3",
   "version": "3.7.3"
  }
 },
 "nbformat": 4,
 "nbformat_minor": 2
}
