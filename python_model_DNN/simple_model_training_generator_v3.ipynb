{
 "cells": [
  {
   "cell_type": "code",
   "execution_count": null,
   "metadata": {},
   "outputs": [],
   "source": [
    "from __future__ import print_function\n",
    "\n",
    "import numpy as np\n",
    "import pandas as pd\n",
    "import matplotlib.pyplot as plt\n",
    "from os import walk\n",
    "\n",
    "from sklearn.model_selection import train_test_split\n",
    "#from sklearn import preprocessing\n",
    "\n",
    "import keras\n",
    "from keras.models import Sequential\n",
    "from keras.layers import Dense, Dropout\n",
    "from keras.optimizers import RMSprop, SGD\n",
    "from keras.backend.tensorflow_backend import set_session\n",
    "\n",
    "import tensorflow as tf\n",
    "\n",
    "import custom_loss_functions as cust_loss\n",
    "from load_data import get_subset_ids, get_subset_sample_idx, DataGenerator_raw"
   ]
  },
  {
   "cell_type": "code",
   "execution_count": null,
   "metadata": {},
   "outputs": [],
   "source": [
    "# configure tf session\n",
    "config = tf.ConfigProto(device_count={'CPU': 2,\n",
    "                                      'GPU': 0})\n",
    "sess = tf.Session(config=config)\n",
    "set_session(sess)"
   ]
  },
  {
   "cell_type": "markdown",
   "metadata": {},
   "source": [
    "## Model"
   ]
  },
  {
   "cell_type": "code",
   "execution_count": null,
   "metadata": {},
   "outputs": [],
   "source": [
    "def simple_model(in_dim):\n",
    "    \"\"\"Define simple model\"\"\"\n",
    "    # create model\n",
    "    model = Sequential()\n",
    "    model.add(Dense(128, activation='relu', input_shape=(in_dim,)))\n",
    "    model.add(Dense(128, activation='relu'))\n",
    "    model.add(Dense(1, activation='linear'))\n",
    "    # show info\n",
    "    model.summary()\n",
    "    # compile model\n",
    "    model.compile(loss = cust_loss.mse_wrap_angle,\n",
    "                  optimizer = RMSprop(0.001),\n",
    "                  metrics = [cust_loss.mae_wrap_angle])\n",
    "    return model"
   ]
  },
  {
   "cell_type": "markdown",
   "metadata": {},
   "source": [
    "## Training"
   ]
  },
  {
   "cell_type": "code",
   "execution_count": null,
   "metadata": {},
   "outputs": [],
   "source": [
    "# define training parameters\n",
    "batch_size = 1024\n",
    "num_epochs = 10\n",
    "\n",
    "# define filename of file containing dataset\n",
    "filename = '../generated/database_raw_redframes.h5'\n",
    "\n",
    "# list of substrings of parameters to select, e.g. 'NFCHOA', 'pos10', 'R006'\n",
    "subset_valid = ['NFCHOA_M027', 'NFCHOA_R027'] #['LWFS','R006','M006','M027','R027','M013','R013']\n",
    "subset_test = ['NFCHOA_M027', 'NFCHOA_R027']"
   ]
  },
  {
   "cell_type": "code",
   "execution_count": null,
   "metadata": {},
   "outputs": [],
   "source": [
    "# load data indices\n",
    "ID_ref = pd.read_hdf(filename, key='ID_reference_table')#.reset_index(drop=True)\n",
    "ID_ref.set_index('global_id', drop=True, inplace=True)\n",
    "list_IDs = ID_ref.index.values.astype(np.uint32)\n",
    "n_samples = list_IDs.shape[0]\n",
    "n_frames = 10\n",
    "#list_IDs = np.arange(160*360*100*20,dtype='int32')\n",
    "\n",
    "# load metadata\n",
    "pos_table = pd.read_hdf(filename, key='position_table')\n",
    "pos_table.set_index('pos_id', drop=True, inplace=True)\n",
    "cond_table = pd.read_hdf(filename, key='condition_table')\n",
    "cond_table.set_index('cond_id', drop=True, inplace=True)\n",
    "\n",
    "# only validate/train/test on samples specified by subset lists\n",
    "cond_ids_valid, pos_ids_valid, subject_ids_valid = get_subset_ids(subset_valid, cond_table)\n",
    "cond_ids_test, pos_ids_test, subject_ids_test = get_subset_ids(subset_test, cond_table)\n",
    "# extract repective samples from ID_ref table\n",
    "list_IDs_valid = get_subset_sample_idx(ID_ref, cond_ids_valid, pos_ids_valid, subject_ids_valid)\n",
    "list_IDs_test = get_subset_sample_idx(ID_ref, cond_ids_test, pos_ids_test, subject_ids_test)\n",
    "\n",
    "idx_list = np.unique(np.concatenate((list_IDs_valid, list_IDs_test)))\n",
    "list_IDs_train = np.delete(list_IDs, idx_list)\n",
    "\n",
    "# train_test_split\n",
    "# dictionary containing train, validation and test subset IDs\n",
    "partition = {'train':[], 'validation':[], 'test':[]}\n",
    "# split data set in training, validation and test data\n",
    "partition['train'] = list_IDs_train\n",
    "partition['validation'] = list_IDs_valid\n",
    "partition['test'] = list_IDs_test\n",
    "#partition['train'], partition['test'] = train_test_split(list_IDs, shuffle=True, test_size=0.2)\n",
    "#partition['train'], partition['validation'] = train_test_split(list_IDs, shuffle=True, test_size=0.2)\n",
    "del list_IDs\n",
    "\n",
    "# load data\n",
    "target_data = pd.read_hdf(filename, key='target_data')\n",
    "feature_data = pd.read_hdf(filename, key='feature_data')\n",
    "feature_labels = feature_data.columns.tolist()\n",
    "\n",
    "# normalization\n",
    "# define scaler\n",
    "#minmax_scaler = preprocessing.MinMaxScaler(feature_range=(0, 1),copy=False)\n",
    "#minmax_scaler.fit(feature_data)\n",
    "# perform scaling\n",
    "#feature_data = minmax_scaler.transform(feature_data)\n",
    "#minmax_scaler.transform(feature_data)"
   ]
  },
  {
   "cell_type": "code",
   "execution_count": null,
   "metadata": {
    "scrolled": false
   },
   "outputs": [],
   "source": [
    "# model.fit_generator on batches of dataset\n",
    "\n",
    "# define generators\n",
    "params = {'dim': feature_data.shape[1],\n",
    "          'batch_size': batch_size,\n",
    "          'feature_data': feature_data.values,\n",
    "          'target_data' : target_data.values,\n",
    "          'shuffle': True,\n",
    "          'n_frames': n_frames\n",
    "         }\n",
    "train_batch_generator = DataGenerator_raw(partition['train'], **params)\n",
    "valid_batch_generator = DataGenerator_raw(partition['validation'], **params)\n",
    "\n",
    "model = simple_model(feature_data.shape[1])\n",
    "\n",
    "csv_logger = keras.callbacks.CSVLogger('log.csv')\n",
    "\n",
    "history = model.fit_generator(generator = train_batch_generator,\n",
    "                              #steps_per_epoch = (num_train_samples) // batch_size),\n",
    "                              epochs = num_epochs,\n",
    "                              verbose = 1,\n",
    "                              validation_data = valid_batch_generator,\n",
    "                              #validation_steps = (num_valid_samples) // batch_size),\n",
    "                              #callbacks = [csv_logger],\n",
    "                              use_multiprocessing = True,\n",
    "                              workers = 4,\n",
    "                              max_queue_size = 1000\n",
    "                              )"
   ]
  },
  {
   "cell_type": "code",
   "execution_count": null,
   "metadata": {},
   "outputs": [],
   "source": [
    "model.get_config()"
   ]
  },
  {
   "cell_type": "markdown",
   "metadata": {},
   "source": [
    "## Evaluation"
   ]
  },
  {
   "cell_type": "code",
   "execution_count": null,
   "metadata": {},
   "outputs": [],
   "source": [
    "# plot train history\n",
    "plt.plot(history.history['loss'])\n",
    "plt.plot(history.history['val_loss'])\n",
    "plt.title('Model loss (mae w angle wrapping)')\n",
    "plt.ylabel('Loss')\n",
    "plt.xlabel('Epoch')\n",
    "plt.legend(['Train', 'Validation'], loc='upper left')\n",
    "plt.show()\n",
    "\n",
    "plt.plot(history.history['mae_wrap_angle'])\n",
    "plt.plot(history.history['val_mae_wrap_angle'])\n",
    "plt.title('Model loss metric mae w angle wrapping')\n",
    "plt.ylabel('MSE')\n",
    "plt.xlabel('Epoch')\n",
    "plt.legend(['Train', 'Validation'], loc='upper left')\n",
    "plt.show()"
   ]
  },
  {
   "cell_type": "code",
   "execution_count": null,
   "metadata": {},
   "outputs": [],
   "source": [
    "# evaluate model\n",
    "test_batch_generator = DataGenerator_raw(partition['test'], **params)\n",
    "score = model.evaluate_generator(test_batch_generator, verbose=1)\n",
    "print('Test loss:', score[0])\n",
    "print('Test mae w wrap:', score[1])\n",
    "#print('Test mae w/o wrap:', score[2])"
   ]
  },
  {
   "cell_type": "markdown",
   "metadata": {},
   "source": [
    "## Save"
   ]
  },
  {
   "cell_type": "code",
   "execution_count": null,
   "metadata": {},
   "outputs": [],
   "source": [
    "# Save history to json file\n",
    "import json\n",
    "with open('../../../models_trained/m3_history.json', 'w') as f:\n",
    "    json.dump(history.history, f)"
   ]
  },
  {
   "cell_type": "code",
   "execution_count": null,
   "metadata": {},
   "outputs": [],
   "source": [
    "from keras.models import load_model\n",
    "# Save model\n",
    "model.save('../../../models_trained/m3_bs2048_adam_msaw_test-s18-s19-s20.h5')\n",
    "del model"
   ]
  },
  {
   "cell_type": "code",
   "execution_count": null,
   "metadata": {},
   "outputs": [],
   "source": []
  }
 ],
 "metadata": {
  "kernelspec": {
   "display_name": "Python 3",
   "language": "python",
   "name": "python3"
  },
  "language_info": {
   "codemirror_mode": {
    "name": "ipython",
    "version": 3
   },
   "file_extension": ".py",
   "mimetype": "text/x-python",
   "name": "python",
   "nbconvert_exporter": "python",
   "pygments_lexer": "ipython3",
   "version": "3.7.3"
  }
 },
 "nbformat": 4,
 "nbformat_minor": 2
}
