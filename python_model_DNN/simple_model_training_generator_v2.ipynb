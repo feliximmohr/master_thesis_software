{
 "cells": [
  {
   "cell_type": "code",
   "execution_count": null,
   "metadata": {},
   "outputs": [],
   "source": [
    "from __future__ import print_function\n",
    "\n",
    "import numpy as np\n",
    "import pandas as pd\n",
    "import matplotlib.pyplot as plt\n",
    "from os import walk\n",
    "from os.path import splitext\n",
    "\n",
    "from sklearn.model_selection import train_test_split\n",
    "from sklearn import preprocessing\n",
    "\n",
    "import keras\n",
    "from keras.models import Sequential\n",
    "from keras.layers import Dense, Dropout\n",
    "from keras.optimizers import RMSprop, SGD\n",
    "\n",
    "import custom_loss_functions as cust_loss\n",
    "from load_data import get_ignore_ids, DataGenerator_raw"
   ]
  },
  {
   "cell_type": "markdown",
   "metadata": {},
   "source": [
    "## Model"
   ]
  },
  {
   "cell_type": "code",
   "execution_count": null,
   "metadata": {},
   "outputs": [],
   "source": [
    "def simple_model(in_dim):\n",
    "    \"\"\"Define simple model\"\"\"\n",
    "    # create model\n",
    "    model = Sequential()\n",
    "    model.add(Dense(128, activation='relu', input_shape=(in_dim,)))\n",
    "    model.add(Dense(128, activation='relu'))\n",
    "    model.add(Dense(1, activation='linear'))\n",
    "    # show info\n",
    "    model.summary()\n",
    "    # compile model\n",
    "    model.compile(loss = cust_loss.mse_wrap_angle,\n",
    "                  optimizer = 'adam',\n",
    "                  metrics = [cust_loss.mae_wrap_angle, 'mae', 'mse'])\n",
    "    return model"
   ]
  },
  {
   "cell_type": "markdown",
   "metadata": {},
   "source": [
    "## Training"
   ]
  },
  {
   "cell_type": "code",
   "execution_count": null,
   "metadata": {},
   "outputs": [],
   "source": [
    "# define training parameters\n",
    "batch_size = 32\n",
    "num_epochs = 10\n",
    "\n",
    "# define filename of file containing dataset\n",
    "filename = '/media/feliximmohr/Storage/master_thesis/generated/database/raw/database_raw.h5'\n",
    "\n",
    "# list of substrings of parameters of samples to ignore, e.g. 'NFCHOA', 'pos10', 'R006'\n",
    "ignore_list = [] #['LWFS','R006','M006','M027','R027','M013','R013']"
   ]
  },
  {
   "cell_type": "code",
   "execution_count": null,
   "metadata": {},
   "outputs": [],
   "source": [
    "# load data indices\n",
    "ID_ref = pd.read_hdf(filename, key='ID_reference_table')#.reset_index(drop=True)\n",
    "ID_ref.set_index('global_id', drop=True, inplace=True)\n",
    "list_IDs = ID_ref.index.values.astype(np.uint32)\n",
    "#list_IDs = np.arange(160*360*100*20,dtype='int32')\n",
    "\n",
    "# load metadata\n",
    "position_table = pd.read_hdf(filename, key='position_table')\n",
    "position_table.set_index('pos_id', drop=True, inplace=True)\n",
    "condition_table = pd.read_hdf(filename, key='condition_table')\n",
    "condition_table.set_index('cond_id', drop=True, inplace=True)\n",
    "\n",
    "# only train on samples not to be ignored specified by ignore_list\n",
    "cond_ign_ids, pos_ign_ids = get_ignore_ids(ignore_list, condition_table)\n",
    "\n",
    "ign_idx_list = np.array([],dtype=np.uint32)\n",
    "for pos in pos_ign_ids:\n",
    "    ign_idx = ID_ref[(ID_ref.pos_id==pos)].index.values.astype(np.uint32)\n",
    "    ign_idx_list = np.concatenate((ign_idx_list, ign_idx))\n",
    "for cond in cond_ign_ids:\n",
    "    ign_idx = ID_ref[(ID_ref.cond_id==cond)].index.values.astype(np.uint32)\n",
    "    ign_idx_list = np.concatenate((ign_idx_list, ign_idx))\n",
    "    \n",
    "ign_idx_list = np.unique(ign_idx_list)\n",
    "    \n",
    "list_IDs = np.delete(list_IDs, ign_idx_list)"
   ]
  },
  {
   "cell_type": "code",
   "execution_count": null,
   "metadata": {},
   "outputs": [],
   "source": [
    "# train_test_split\n",
    "\n",
    "# dictionary containing train, validation and test subset IDs\n",
    "partition = {'train':[], 'validation':[], 'test':[]}\n",
    "\n",
    "# split data set in training, validation and test data\n",
    "partition['train'], partition['test'] = train_test_split(list_IDs, shuffle=True, test_size=0.2)\n",
    "partition['train'], partition['validation'] = train_test_split(partition['train'], shuffle=True, test_size=0.2)\n",
    "\n",
    "#del ID_reference_table\n",
    "del list_IDs"
   ]
  },
  {
   "cell_type": "code",
   "execution_count": null,
   "metadata": {},
   "outputs": [],
   "source": [
    "# load data\n",
    "target_data = pd.read_hdf(filename, key='target_data')\n",
    "feature_data = pd.read_hdf(filename, key='feature_data')\n",
    "feature_labels = feature_data.columns.tolist()"
   ]
  },
  {
   "cell_type": "code",
   "execution_count": null,
   "metadata": {},
   "outputs": [],
   "source": [
    "# normalization\n",
    "# define scaler\n",
    "#minmax_scaler = preprocessing.MinMaxScaler(feature_range=(0, 1),copy=False)\n",
    "#minmax_scaler.fit(feature_data)\n",
    "\n",
    "#std_scaler = preprocessing.StandardScaler().fit(feature_data)\n",
    "\n",
    "# perform scaling\n",
    "#feature_data = minmax_scaler.transform(feature_data)\n",
    "#minmax_scaler.transform(feature_data)"
   ]
  },
  {
   "cell_type": "code",
   "execution_count": null,
   "metadata": {
    "scrolled": false
   },
   "outputs": [],
   "source": [
    "# model.fit_generator on batches of dataset\n",
    "\n",
    "# define generators\n",
    "params = {'dim': feature_data.shape[1],\n",
    "          'batch_size': batch_size,\n",
    "          'feature_data': feature_data.values,\n",
    "          'target_data' : target_data.values,\n",
    "          'shuffle': True\n",
    "         }\n",
    "train_batch_generator = DataGenerator_raw(partition['train'], **params)\n",
    "valid_batch_generator = DataGenerator_raw(partition['validation'], **params)\n",
    "\n",
    "model = simple_model(feature_data.shape[1])\n",
    "\n",
    "history = model.fit_generator(generator = train_batch_generator,\n",
    "                              #steps_per_epoch = (num_train_samples) // batch_size),\n",
    "                              epochs = num_epochs,\n",
    "                              verbose = 1,\n",
    "                              validation_data = valid_batch_generator,\n",
    "                              #validation_steps = (num_valid_samples) // batch_size),\n",
    "                              use_multiprocessing = True,\n",
    "                              workers = 4)"
   ]
  },
  {
   "cell_type": "markdown",
   "metadata": {},
   "source": [
    "## Evaluation"
   ]
  },
  {
   "cell_type": "code",
   "execution_count": null,
   "metadata": {},
   "outputs": [],
   "source": [
    "# plot train history\n",
    "plt.plot(history.history['loss'])\n",
    "plt.plot(history.history['val_loss'])\n",
    "plt.title('Model loss')\n",
    "plt.ylabel('Loss')\n",
    "plt.xlabel('Epoch')\n",
    "plt.legend(['Train', 'Test'], loc='upper left')\n",
    "plt.show()"
   ]
  },
  {
   "cell_type": "code",
   "execution_count": null,
   "metadata": {},
   "outputs": [],
   "source": [
    "# evaluate model\n",
    "test_batch_generator = DataGenerator_raw(partition['test'], **params)\n",
    "score = model.evaluate_generator(test_batch_generator, verbose=1)\n",
    "print('Test loss:', score[0])\n",
    "print('Test mae w wrap:', score[1])\n",
    "print('Test mae w/o wrap:', score[2])"
   ]
  },
  {
   "cell_type": "markdown",
   "metadata": {},
   "source": [
    "## Save"
   ]
  },
  {
   "cell_type": "code",
   "execution_count": null,
   "metadata": {},
   "outputs": [],
   "source": [
    "# Save history to json file\n",
    "import json\n",
    "with open('file.json', 'w') as f:\n",
    "    json.dump(history.history, f)"
   ]
  },
  {
   "cell_type": "code",
   "execution_count": null,
   "metadata": {},
   "outputs": [],
   "source": [
    "from keras.models import load_model\n",
    "# Save model\n",
    "model.save('my_model.h5')"
   ]
  },
  {
   "cell_type": "code",
   "execution_count": null,
   "metadata": {},
   "outputs": [],
   "source": []
  },
  {
   "cell_type": "code",
   "execution_count": null,
   "metadata": {},
   "outputs": [],
   "source": []
  }
 ],
 "metadata": {
  "kernelspec": {
   "display_name": "Python 3",
   "language": "python",
   "name": "python3"
  },
  "language_info": {
   "codemirror_mode": {
    "name": "ipython",
    "version": 3
   },
   "file_extension": ".py",
   "mimetype": "text/x-python",
   "name": "python",
   "nbconvert_exporter": "python",
   "pygments_lexer": "ipython3",
   "version": "3.7.3"
  }
 },
 "nbformat": 4,
 "nbformat_minor": 2
}
