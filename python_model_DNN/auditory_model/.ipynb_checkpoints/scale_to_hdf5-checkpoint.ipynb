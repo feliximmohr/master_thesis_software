{
 "cells": [
  {
   "cell_type": "code",
   "execution_count": null,
   "metadata": {},
   "outputs": [],
   "source": [
    "import numpy as np\n",
    "import pandas as pd\n",
    "from sklearn import preprocessing\n",
    "\n",
    "from utils.file_conversion import load_csv_raw\n",
    "from utils.load_data_raw import load_raw_all_h5"
   ]
  },
  {
   "cell_type": "code",
   "execution_count": null,
   "metadata": {},
   "outputs": [],
   "source": [
    "# define filename of file containing dataset\n",
    "data_dir = '/media/feliximmohr/Storage/master_thesis/generated/database/raw/test/'\n",
    "export_name = data_dir+'database_raw_nf10_scaledMM.h5'#../generated/database_raw_redframes_scaled.h5'"
   ]
  },
  {
   "cell_type": "code",
   "execution_count": null,
   "metadata": {},
   "outputs": [],
   "source": [
    "# load data from raw CSV files\n",
    "feature_data, target_data, ID_ref, pos_table, cond_table, par = load_csv_raw(data_dir)"
   ]
  },
  {
   "cell_type": "code",
   "execution_count": null,
   "metadata": {},
   "outputs": [],
   "source": [
    "# load data from raw HDF5 files\n",
    "#filename = data_dir + 'database_raw_nf10.h5'\n",
    "#feature_data, target_data, ID_ref, pos_table, cond_table, par = load_raw_all_h5(filename)"
   ]
  },
  {
   "cell_type": "code",
   "execution_count": null,
   "metadata": {},
   "outputs": [],
   "source": [
    "# normalization\n",
    "# define scaler\n",
    "minmax_scaler = preprocessing.MinMaxScaler(feature_range=(-1, 1),copy=False)\n",
    "minmax_scaler.fit(feature_data)\n",
    "# perform scaling\n",
    "#eature_data = minmax_scaler.transform(feature_data)\n",
    "minmax_scaler.transform(feature_data)"
   ]
  },
  {
   "cell_type": "code",
   "execution_count": null,
   "metadata": {},
   "outputs": [],
   "source": [
    "feature_data.describe()"
   ]
  },
  {
   "cell_type": "code",
   "execution_count": null,
   "metadata": {},
   "outputs": [],
   "source": [
    "# write scaled data to file\n",
    "pos_table.to_hdf(export_name, 'position_table', mode='a', format='table')\n",
    "cond_table.to_hdf(export_name, 'condition_table', mode='a', format='table')\n",
    "ID_ref.to_hdf(export_name, 'ID_reference_table', mode='a', format='table')\n",
    "par.to_hdf(export_name, 'feature_par', mode='a', format='table')\n",
    "target_data.to_hdf(export_name, 'target_data', mode='a', format='table')\n",
    "feature_data.to_hdf(export_name, 'feature_data', mode='a', format='table')"
   ]
  }
 ],
 "metadata": {
  "kernelspec": {
   "display_name": "Python 3",
   "language": "python",
   "name": "python3"
  },
  "language_info": {
   "codemirror_mode": {
    "name": "ipython",
    "version": 3
   },
   "file_extension": ".py",
   "mimetype": "text/x-python",
   "name": "python",
   "nbconvert_exporter": "python",
   "pygments_lexer": "ipython3",
   "version": "3.7.3"
  }
 },
 "nbformat": 4,
 "nbformat_minor": 2
}
