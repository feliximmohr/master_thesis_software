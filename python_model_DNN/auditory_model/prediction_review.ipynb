{
 "cells": [
  {
   "cell_type": "code",
   "execution_count": 2,
   "metadata": {},
   "outputs": [],
   "source": [
    "import numpy as np\n",
    "import pandas as pd\n",
    "import matplotlib.pyplot as plt\n",
    "\n",
    "from keras.models import load_model\n",
    "\n",
    "from utils.custom_loss import mae_wrap_angle, mse_wrap_angle, angle_diff_deg\n",
    "from utils.load_data_raw import DataGenerator_raw, load_raw_all_h5\n",
    "from utils.dataset_split import *\n",
    "from utils.eval import *\n",
    "from utils.utils import get_filelist, open_json\n",
    "\n",
    "NUM_WORKER = 4\n",
    "custom_obj={'mse_wrap_angle': mse_wrap_angle, 'mae_wrap_angle': mae_wrap_angle}"
   ]
  },
  {
   "cell_type": "code",
   "execution_count": 3,
   "metadata": {},
   "outputs": [],
   "source": [
    "# load filelist\n",
    "model_dir = '../data/models_trained/'\n",
    "filelist = get_filelist(model_dir)\n",
    "\n",
    "# load data\n",
    "dset_dir = '/media/feliximmohr/Storage/master_thesis/generated/database/raw/raw_nf10_mid/database_raw_nf10_scaledMM.h5'\n",
    "feat, targ, ID_ref, pos_t, cond_t, par = load_raw_all_h5(dset_dir)\n",
    "\n",
    "# load unscaled data\n",
    "dset_nsc_dir = '/media/feliximmohr/Storage/master_thesis/generated/database/raw/raw_nf10_mid/database_raw_nf10.h5'\n",
    "feat_nsc, targ_nsc, _, _, _, _ = load_raw_all_h5(dset_nsc_dir)\n",
    "\n",
    "# create parameter dicts for the test batch generators\n",
    "params = create_test_params(feat, targ, par, shuffle=False)\n",
    "params_nsc = create_test_params(feat_nsc, targ_nsc, par, shuffle=False)\n",
    "\n",
    "part = {}\n",
    "for i in range(len(cond_t)):\n",
    "    cond = cond_t.iloc[i]\n",
    "    cond_ids_test, pos_ids_test, subject_ids_test = get_subset_ids([cond[0]], cond_t)\n",
    "    part[cond[0]] = get_subset_sample_idx(ID_ref, cond_ids_test, pos_ids_test, subject_ids_test)"
   ]
  },
  {
   "cell_type": "code",
   "execution_count": 4,
   "metadata": {},
   "outputs": [],
   "source": [
    "# extract model and corresponding history and test partition filenames from filelist\n",
    "m_flist = [x for x in filelist if ('history' not in x) and ('partition_test' not in x)]\n",
    "h_flist = ['_' for x in np.zeros(len(m_flist))]\n",
    "pt_flist = ['_' for x in np.zeros(len(m_flist))]\n",
    "for file in filelist:\n",
    "        if ('history' in file):\n",
    "            name = file.replace('_history.json', '.h5')\n",
    "            h_flist[m_flist.index(name)] = file\n",
    "        if ('partition_test' in file):\n",
    "            name = file.replace('_partition_test.json', '.h5')\n",
    "            pt_flist[m_flist.index(name)] = file\n",
    "\n",
    "# seperate model list based on test type (topology/wrapping/normalization)\n",
    "m_flist_tt = [x for x in m_flist if 'toptest' in x]\n",
    "m_flist_nt = [x for x in m_flist if 'normtest' in x]\n",
    "m_flist_wt = [x for x in m_flist if 'wraptest' in x]\n",
    "\n",
    "h_flist_tt = [h_flist[m_flist.index(i)] for i in m_flist_tt]\n",
    "h_flist_nt = [h_flist[m_flist.index(i)] for i in m_flist_nt]\n",
    "h_flist_wt = [h_flist[m_flist.index(i)] for i in m_flist_wt]\n",
    "\n",
    "pt_flist_tt = [pt_flist[m_flist.index(i)] for i in m_flist_tt]\n",
    "pt_flist_nt = [pt_flist[m_flist.index(i)] for i in m_flist_nt]\n",
    "pt_flist_wt = [pt_flist[m_flist.index(i)] for i in m_flist_wt]"
   ]
  },
  {
   "cell_type": "code",
   "execution_count": 5,
   "metadata": {},
   "outputs": [
    {
     "name": "stdout",
     "output_type": "stream",
     "text": [
      "0  - m008-001_maew_adam_bs1024_t-NR006-NM027_toptest.h5\n",
      "1  - m032-16_maew_adam_bs1024_t-NR006-NM027_toptest.h5\n",
      "2  - m032-16_maew_adam_bs1024_t-NR006_toptest.h5\n",
      "3  - m064-001_maew_adam_bs1024_t-NR006-NM027_toptest.h5\n",
      "4  - m064-032_mae_adam_bs1024_t-split_wraptest.h5\n",
      "5  - m064-032_maew_adam_bs1024_t-split_wraptest.h5\n",
      "6  - m128-128-064_maew_adam_bs1024_t-NR006-NM027_toptest.h5\n",
      "7  - m128-128-064_maew_adam_bs1024_t-NR006_toptest.h5\n",
      "8  - m128-128_mae_adam_bs1024_t-split_wraptest.h5\n",
      "9  - m128-128_maew_adam_bs1024_t-NHR006_toptest.h5\n",
      "10 - m128-128_maew_adam_bs1024_t-NR006-NM027_reg-l2-0.001_toptest.h5\n",
      "11 - m128-128_maew_adam_bs1024_t-NR006-NM027_reg-l2-0.01_toptest.h5\n",
      "12 - m128-128_maew_adam_bs1024_t-NR006-NM027_toptest.h5\n",
      "13 - m128-128_maew_adam_bs1024_t-split_normtest_neg.h5\n",
      "14 - m128-128_maew_adam_bs1024_t-split_normtest_sc.h5\n",
      "15 - m128-128_maew_adam_bs1024_t-split_wraptest.h5\n",
      "16 - m128-128_msew_adam_bs1024_t-NR006-NM027_toptest.h5\n",
      "17 - m128bn-128bn_maew_adam_bs128_t-NR006_toptest.h5\n",
      "18 - m128bn-128bn_maew_adam_bs2048_t-NR006_toptest.h5\n",
      "19 - m128bn-128bn_maew_adam_bs256_t-NR006-NM027_toptest.h5\n",
      "20 - m256-128_mae_adam_bs1024_t-split_wraptest.h5\n",
      "21 - m256-128_maew_adam_bs1024_t-split_wraptest.h5\n",
      "22 - m512-256_maew_adam_bs1024_t-NR006-NM027_toptest.h5\n",
      "23 - m512-256_maew_adam_bs1024_t-NR006_toptest.h5\n"
     ]
    }
   ],
   "source": [
    "def print_filelist(flist):\n",
    "    \"\"\"Print tuple of filelists incl index.\"\"\"\n",
    "    if not isinstance(flist,tuple):\n",
    "        flist = (flist,)\n",
    "        \n",
    "    for i in range(len(flist[0])):\n",
    "        s = ' -' if i<10 else '-'\n",
    "        for j in range(len(flist)):\n",
    "            print(i, s, flist[j][i])\n",
    "\n",
    "# print model list\n",
    "#print_filelist((m_flist,h_flist,pt_flist))"
   ]
  },
  {
   "cell_type": "code",
   "execution_count": 7,
   "metadata": {},
   "outputs": [
    {
     "name": "stderr",
     "output_type": "stream",
     "text": [
      "WARNING: Logging before flag parsing goes to stderr.\n",
      "W1023 18:35:39.391157 140349414659904 deprecation_wrapper.py:119] From /home/feliximmohr/anaconda3/lib/python3.7/site-packages/keras/backend/tensorflow_backend.py:517: The name tf.placeholder is deprecated. Please use tf.compat.v1.placeholder instead.\n",
      "\n",
      "W1023 18:35:39.409888 140349414659904 deprecation_wrapper.py:119] From /home/feliximmohr/anaconda3/lib/python3.7/site-packages/keras/backend/tensorflow_backend.py:4138: The name tf.random_uniform is deprecated. Please use tf.random.uniform instead.\n",
      "\n",
      "W1023 18:35:39.472660 140349414659904 deprecation_wrapper.py:119] From /home/feliximmohr/anaconda3/lib/python3.7/site-packages/keras/backend/tensorflow_backend.py:174: The name tf.get_default_session is deprecated. Please use tf.compat.v1.get_default_session instead.\n",
      "\n",
      "W1023 18:35:39.473699 140349414659904 deprecation_wrapper.py:119] From /home/feliximmohr/anaconda3/lib/python3.7/site-packages/keras/backend/tensorflow_backend.py:181: The name tf.ConfigProto is deprecated. Please use tf.compat.v1.ConfigProto instead.\n",
      "\n",
      "W1023 18:35:39.475411 140349414659904 deprecation_wrapper.py:119] From /home/feliximmohr/anaconda3/lib/python3.7/site-packages/keras/backend/tensorflow_backend.py:186: The name tf.Session is deprecated. Please use tf.compat.v1.Session instead.\n",
      "\n",
      "W1023 18:35:39.587405 140349414659904 deprecation_wrapper.py:119] From /home/feliximmohr/anaconda3/lib/python3.7/site-packages/keras/optimizers.py:790: The name tf.train.Optimizer is deprecated. Please use tf.compat.v1.train.Optimizer instead.\n",
      "\n"
     ]
    }
   ],
   "source": [
    "def load_m_h_pt(model_dir, m_flist, h_flist, pt_flist):\n",
    "    \"\"\"Load models from model list and corresponding history and test partition.\"\"\"\n",
    "    m = []\n",
    "    h = ['_' for x in np.zeros(len(m_flist))]\n",
    "    p = ['_' for x in np.zeros(len(m_flist))]\n",
    "    for i,j in enumerate(m_flist):\n",
    "        m.append(load_model(model_dir + j, custom_objects=custom_obj))\n",
    "        if h_flist[i] != '_':\n",
    "            h[i] = open_json(model_dir, h_flist[i])\n",
    "        if pt_flist[i] != '_':\n",
    "            p[i] = open_json(model_dir, pt_flist[i])\n",
    "    return m, h, p\n",
    "\n",
    "# load models\n",
    "#m_nt, h_nt, pt_nt = load_m_h_pt(model_dir, m_flist_nt, h_flist_nt, pt_flist_nt)\n",
    "#m_wt, h_wt, pt_wt = load_m_h_pt(model_dir, m_flist_wt, h_flist_wt, pt_flist_wt)\n",
    "m_tt, h_tt, pt_tt = load_m_h_pt(model_dir, m_flist_tt, h_flist_tt, pt_flist_tt)"
   ]
  },
  {
   "cell_type": "markdown",
   "metadata": {},
   "source": [
    "## Prediction Evaluation"
   ]
  },
  {
   "cell_type": "code",
   "execution_count": 8,
   "metadata": {},
   "outputs": [
    {
     "name": "stdout",
     "output_type": "stream",
     "text": [
      "0  - m008-001_maew_adam_bs1024_t-NR006-NM027_toptest.h5\n",
      "1  - m032-16_maew_adam_bs1024_t-NR006-NM027_toptest.h5\n",
      "2  - m032-16_maew_adam_bs1024_t-NR006_toptest.h5\n",
      "3  - m064-001_maew_adam_bs1024_t-NR006-NM027_toptest.h5\n",
      "4  - m128-128-064_maew_adam_bs1024_t-NR006-NM027_toptest.h5\n",
      "5  - m128-128-064_maew_adam_bs1024_t-NR006_toptest.h5\n",
      "6  - m128-128_maew_adam_bs1024_t-NHR006_toptest.h5\n",
      "7  - m128-128_maew_adam_bs1024_t-NR006-NM027_reg-l2-0.001_toptest.h5\n",
      "8  - m128-128_maew_adam_bs1024_t-NR006-NM027_reg-l2-0.01_toptest.h5\n",
      "9  - m128-128_maew_adam_bs1024_t-NR006-NM027_toptest.h5\n",
      "10 - m128-128_msew_adam_bs1024_t-NR006-NM027_toptest.h5\n",
      "11 - m128bn-128bn_maew_adam_bs128_t-NR006_toptest.h5\n",
      "12 - m128bn-128bn_maew_adam_bs2048_t-NR006_toptest.h5\n",
      "13 - m128bn-128bn_maew_adam_bs256_t-NR006-NM027_toptest.h5\n",
      "14 - m512-256_maew_adam_bs1024_t-NR006-NM027_toptest.h5\n",
      "15 - m512-256_maew_adam_bs1024_t-NR006_toptest.h5\n"
     ]
    }
   ],
   "source": [
    "print_filelist(m_flist_tt)"
   ]
  },
  {
   "cell_type": "code",
   "execution_count": 13,
   "metadata": {},
   "outputs": [],
   "source": [
    "#part_x_M027, pos_ids = get_pos_IDs(part['NFCHOA_M027'],ID_ref)\n",
    "#part_x_R006, _ = get_pos_IDs(part['NFCHOA_R006'],ID_ref)\n",
    "\n",
    "params_t = params.copy()\n",
    "params_t['batch_size'] = 1000"
   ]
  },
  {
   "cell_type": "code",
   "execution_count": 11,
   "metadata": {},
   "outputs": [],
   "source": [
    "def model_pred_pos(model, part, params, ID_ref):\n",
    "    \"\"\"Returns predictions on model based on test partition per position as list.\"\"\"\n",
    "    part_x, pos_ids = get_pos_IDs(part,ID_ref)\n",
    "    b_gen = []\n",
    "    pred = []\n",
    "    y = []\n",
    "    for j in range(len(part_x)):\n",
    "        b_gen.append(DataGenerator_raw(part_x[j], **params))\n",
    "        pred.append(model.predict_generator(b_gen[j], verbose=1, use_multiprocessing=True, workers=64))\n",
    "        y.append(get_y_gen(b_gen[j]))\n",
    "    return pred, y"
   ]
  },
  {
   "cell_type": "code",
   "execution_count": 37,
   "metadata": {},
   "outputs": [],
   "source": [
    "def plot_pred(pred, y):\n",
    "    \"\"\"TODO.\"\"\"\n",
    "    %matplotlib\n",
    "    x =  np.kron(np.arange(3600), np.ones(20))\n",
    "        \n",
    "    #plot\n",
    "    f, axes = plt.subplots(3, 4, sharey=True, sharex=True)\n",
    "    axes[0, 1].scatter(x,pred[2])\n",
    "    axes[0, 2].scatter(x,pred[1])\n",
    "    axes[0, 3].scatter(x,pred[0])\n",
    "    axes[1, 0].scatter(x,pred[6])\n",
    "    axes[1, 1].scatter(x,pred[5])\n",
    "    axes[1, 2].scatter(x,pred[4])\n",
    "    axes[1, 3].scatter(x,pred[3])\n",
    "    axes[2, 1].scatter(x,pred[9])\n",
    "    axes[2, 2].scatter(x,pred[8])\n",
    "    axes[2, 3].scatter(x,pred[7])\n",
    "    #((ax0_,ax02,ax01,ax00),(ax06,ax05,ax04,ax03),(ax1_,ax09,ax08,ax07))\n",
    "    \n",
    "def plot_pred_pos(pred,y):\n",
    "    %matplotlib\n",
    "    x =  np.kron(np.arange(360), np.ones(200))\n",
    "    plt.scatter(x,pred)"
   ]
  },
  {
   "cell_type": "code",
   "execution_count": 57,
   "metadata": {},
   "outputs": [
    {
     "name": "stdout",
     "output_type": "stream",
     "text": [
      "72/72 [==============================] - 6s 86ms/step\n",
      "72/72 [==============================] - 6s 78ms/step\n",
      "72/72 [==============================] - 6s 77ms/step\n",
      "72/72 [==============================] - 5s 76ms/step\n",
      "72/72 [==============================] - 5s 75ms/step\n",
      "72/72 [==============================] - 5s 75ms/step\n",
      "72/72 [==============================] - 5s 74ms/step\n",
      "72/72 [==============================] - 5s 75ms/step\n",
      "72/72 [==============================] - 5s 76ms/step\n",
      "72/72 [==============================] - 5s 74ms/step\n"
     ]
    }
   ],
   "source": [
    "pred, y = model_pred_pos(m_tt[14] , part['NFCHOA_M027'], params_t, ID_ref) "
   ]
  },
  {
   "cell_type": "code",
   "execution_count": 63,
   "metadata": {},
   "outputs": [
    {
     "name": "stdout",
     "output_type": "stream",
     "text": [
      "Using matplotlib backend: Qt5Agg\n"
     ]
    }
   ],
   "source": [
    "plot_pred_pos(pred[9],y)"
   ]
  },
  {
   "cell_type": "code",
   "execution_count": 41,
   "metadata": {},
   "outputs": [],
   "source": [
    "x =  np.kron(np.arange(360), np.ones(200))"
   ]
  },
  {
   "cell_type": "code",
   "execution_count": 60,
   "metadata": {},
   "outputs": [
    {
     "data": {
      "text/plain": [
       "array([-199.39735], dtype=float32)"
      ]
     },
     "execution_count": 60,
     "metadata": {},
     "output_type": "execute_result"
    }
   ],
   "source": [
    "min(pred[0])"
   ]
  },
  {
   "cell_type": "code",
   "execution_count": 61,
   "metadata": {},
   "outputs": [
    {
     "data": {
      "text/plain": [
       "-179.911723"
      ]
     },
     "execution_count": 61,
     "metadata": {},
     "output_type": "execute_result"
    }
   ],
   "source": [
    "min(y[0])"
   ]
  },
  {
   "cell_type": "code",
   "execution_count": null,
   "metadata": {},
   "outputs": [],
   "source": []
  },
  {
   "cell_type": "code",
   "execution_count": null,
   "metadata": {},
   "outputs": [],
   "source": []
  }
 ],
 "metadata": {
  "kernelspec": {
   "display_name": "Python 3",
   "language": "python",
   "name": "python3"
  },
  "language_info": {
   "codemirror_mode": {
    "name": "ipython",
    "version": 3
   },
   "file_extension": ".py",
   "mimetype": "text/x-python",
   "name": "python",
   "nbconvert_exporter": "python",
   "pygments_lexer": "ipython3",
   "version": "3.7.3"
  }
 },
 "nbformat": 4,
 "nbformat_minor": 2
}
