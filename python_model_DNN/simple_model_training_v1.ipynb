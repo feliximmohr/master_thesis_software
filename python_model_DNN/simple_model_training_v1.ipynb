{
 "cells": [
  {
   "cell_type": "code",
   "execution_count": 1,
   "metadata": {},
   "outputs": [
    {
     "name": "stderr",
     "output_type": "stream",
     "text": [
      "Using TensorFlow backend.\n"
     ]
    }
   ],
   "source": [
    "from __future__ import print_function\n",
    "\n",
    "import numpy as np\n",
    "import pandas as pd\n",
    "import matplotlib.pyplot as plt\n",
    "from os import walk\n",
    "\n",
    "from sklearn.model_selection import train_test_split\n",
    "\n",
    "import keras\n",
    "from keras.models import Sequential\n",
    "from keras.layers import Dense, Dropout\n",
    "from keras.optimizers import RMSprop, SGD\n",
    "from keras.utils import Sequence"
   ]
  },
  {
   "cell_type": "code",
   "execution_count": 66,
   "metadata": {},
   "outputs": [],
   "source": [
    "class data_generator(Sequence):\n",
    "    \"\"\"\n",
    "    Generator class to process large datasets.\n",
    "    \"\"\"\n",
    "\n",
    "    def __init__(self, filenames, feat_col_labels, target_col_labels, batch_size):\n",
    "        self.filenames = filenames\n",
    "        self.feat_col_labels = feat_col_labels\n",
    "        self.target_col_labels = target_col_labels\n",
    "        self.batch_size = batch_size\n",
    "\n",
    "    def __len__(self):\n",
    "        return int(np.ceil(len(self.filenames) / float(self.batch_size)))\n",
    "\n",
    "    def __getitem__(self, idx):\n",
    "        data = pd.read_csv(self.filenames[idx])# * self.batch_size:(idx + 1) * self.batch_size])\n",
    "        batch_x = data[self.feat_col_labels].values\n",
    "        batch_y = data[self.target_col_labels].values\n",
    "\n",
    "        return np.array(batch_x), np.array(batch_y)"
   ]
  },
  {
   "cell_type": "code",
   "execution_count": 16,
   "metadata": {},
   "outputs": [],
   "source": [
    "def simple_model():\n",
    "    \"\"\"Define simple model\"\"\"\n",
    "    # create model\n",
    "    model = Sequential()\n",
    "    model.add(Dense(128, activation='relu', input_shape=(96,)))\n",
    "    model.add(Dense(128, activation='relu'))\n",
    "    model.add(Dense(1, activation='linear'))\n",
    "    # show info\n",
    "    model.summary()\n",
    "    # compile model\n",
    "    model.compile(loss='mean_squared_error',\n",
    "                  optimizer='adam',\n",
    "                  metrics = ['mean_absolute_error'])\n",
    "    return model"
   ]
  },
  {
   "cell_type": "markdown",
   "metadata": {},
   "source": [
    "### Training"
   ]
  },
  {
   "cell_type": "code",
   "execution_count": 5,
   "metadata": {},
   "outputs": [],
   "source": [
    "# define training parameters\n",
    "batch_size = 32\n",
    "num_epochs = 30"
   ]
  },
  {
   "cell_type": "code",
   "execution_count": 6,
   "metadata": {},
   "outputs": [],
   "source": [
    "# define dataset directory\n",
    "data_dir = '/media/feliximmohr/Storage/master_thesis/generated/database/' \n",
    "# load filelist\n",
    "filelist = []\n",
    "for (dirpath, dirnames, filenames) in walk(data_dir):\n",
    "    filelist.extend(filenames)\n",
    "    \n",
    "# load column labels only\n",
    "column_label = pd.read_csv(data_dir+filelist[1], nrows=1).columns.tolist()\n",
    "feature_label = [s for s in column_label if (\"ILD\"  in s or \"ITD\" in s or \"IC\" in s)]\n",
    "target_label = 'Localization_Azimuth'"
   ]
  },
  {
   "cell_type": "code",
   "execution_count": 18,
   "metadata": {},
   "outputs": [],
   "source": [
    "num_train_samples = 20*720000\n",
    "num_valid_samples = 10*720000"
   ]
  },
  {
   "cell_type": "code",
   "execution_count": 67,
   "metadata": {
    "scrolled": true
   },
   "outputs": [
    {
     "name": "stdout",
     "output_type": "stream",
     "text": [
      "_________________________________________________________________\n",
      "Layer (type)                 Output Shape              Param #   \n",
      "=================================================================\n",
      "dense_43 (Dense)             (None, 128)               12416     \n",
      "_________________________________________________________________\n",
      "dense_44 (Dense)             (None, 128)               16512     \n",
      "_________________________________________________________________\n",
      "dense_45 (Dense)             (None, 1)                 129       \n",
      "=================================================================\n",
      "Total params: 29,057\n",
      "Trainable params: 29,057\n",
      "Non-trainable params: 0\n",
      "_________________________________________________________________\n",
      "Epoch 1/30\n",
      "5\n",
      "1\n",
      "4\n",
      "0\n"
     ]
    },
    {
     "name": "stderr",
     "output_type": "stream",
     "text": [
      "Process ForkPoolWorker-68:\n",
      "Process ForkPoolWorker-66:\n"
     ]
    },
    {
     "ename": "KeyboardInterrupt",
     "evalue": "",
     "output_type": "error",
     "traceback": [
      "\u001b[0;31m---------------------------------------------------------------------------\u001b[0m",
      "\u001b[0;31mKeyboardInterrupt\u001b[0m                         Traceback (most recent call last)",
      "\u001b[0;32m<ipython-input-67-ce3498938149>\u001b[0m in \u001b[0;36m<module>\u001b[0;34m\u001b[0m\n\u001b[1;32m     18\u001b[0m                               \u001b[0muse_multiprocessing\u001b[0m \u001b[0;34m=\u001b[0m \u001b[0;32mTrue\u001b[0m\u001b[0;34m,\u001b[0m\u001b[0;34m\u001b[0m\u001b[0;34m\u001b[0m\u001b[0m\n\u001b[1;32m     19\u001b[0m                               \u001b[0mworkers\u001b[0m \u001b[0;34m=\u001b[0m \u001b[0;36m2\u001b[0m\u001b[0;34m,\u001b[0m\u001b[0;34m\u001b[0m\u001b[0;34m\u001b[0m\u001b[0m\n\u001b[0;32m---> 20\u001b[0;31m                               max_queue_size = 32)\n\u001b[0m",
      "\u001b[0;32m~/anaconda3/lib/python3.7/site-packages/keras/legacy/interfaces.py\u001b[0m in \u001b[0;36mwrapper\u001b[0;34m(*args, **kwargs)\u001b[0m\n\u001b[1;32m     89\u001b[0m                 warnings.warn('Update your `' + object_name + '` call to the ' +\n\u001b[1;32m     90\u001b[0m                               'Keras 2 API: ' + signature, stacklevel=2)\n\u001b[0;32m---> 91\u001b[0;31m             \u001b[0;32mreturn\u001b[0m \u001b[0mfunc\u001b[0m\u001b[0;34m(\u001b[0m\u001b[0;34m*\u001b[0m\u001b[0margs\u001b[0m\u001b[0;34m,\u001b[0m \u001b[0;34m**\u001b[0m\u001b[0mkwargs\u001b[0m\u001b[0;34m)\u001b[0m\u001b[0;34m\u001b[0m\u001b[0;34m\u001b[0m\u001b[0m\n\u001b[0m\u001b[1;32m     92\u001b[0m         \u001b[0mwrapper\u001b[0m\u001b[0;34m.\u001b[0m\u001b[0m_original_function\u001b[0m \u001b[0;34m=\u001b[0m \u001b[0mfunc\u001b[0m\u001b[0;34m\u001b[0m\u001b[0;34m\u001b[0m\u001b[0m\n\u001b[1;32m     93\u001b[0m         \u001b[0;32mreturn\u001b[0m \u001b[0mwrapper\u001b[0m\u001b[0;34m\u001b[0m\u001b[0;34m\u001b[0m\u001b[0m\n",
      "\u001b[0;32m~/anaconda3/lib/python3.7/site-packages/keras/engine/training.py\u001b[0m in \u001b[0;36mfit_generator\u001b[0;34m(self, generator, steps_per_epoch, epochs, verbose, callbacks, validation_data, validation_steps, class_weight, max_queue_size, workers, use_multiprocessing, shuffle, initial_epoch)\u001b[0m\n\u001b[1;32m   1416\u001b[0m             \u001b[0muse_multiprocessing\u001b[0m\u001b[0;34m=\u001b[0m\u001b[0muse_multiprocessing\u001b[0m\u001b[0;34m,\u001b[0m\u001b[0;34m\u001b[0m\u001b[0;34m\u001b[0m\u001b[0m\n\u001b[1;32m   1417\u001b[0m             \u001b[0mshuffle\u001b[0m\u001b[0;34m=\u001b[0m\u001b[0mshuffle\u001b[0m\u001b[0;34m,\u001b[0m\u001b[0;34m\u001b[0m\u001b[0;34m\u001b[0m\u001b[0m\n\u001b[0;32m-> 1418\u001b[0;31m             initial_epoch=initial_epoch)\n\u001b[0m\u001b[1;32m   1419\u001b[0m \u001b[0;34m\u001b[0m\u001b[0m\n\u001b[1;32m   1420\u001b[0m     \u001b[0;34m@\u001b[0m\u001b[0minterfaces\u001b[0m\u001b[0;34m.\u001b[0m\u001b[0mlegacy_generator_methods_support\u001b[0m\u001b[0;34m\u001b[0m\u001b[0;34m\u001b[0m\u001b[0m\n",
      "\u001b[0;32m~/anaconda3/lib/python3.7/site-packages/keras/engine/training_generator.py\u001b[0m in \u001b[0;36mfit_generator\u001b[0;34m(model, generator, steps_per_epoch, epochs, verbose, callbacks, validation_data, validation_steps, class_weight, max_queue_size, workers, use_multiprocessing, shuffle, initial_epoch)\u001b[0m\n\u001b[1;32m    179\u001b[0m             \u001b[0mbatch_index\u001b[0m \u001b[0;34m=\u001b[0m \u001b[0;36m0\u001b[0m\u001b[0;34m\u001b[0m\u001b[0;34m\u001b[0m\u001b[0m\n\u001b[1;32m    180\u001b[0m             \u001b[0;32mwhile\u001b[0m \u001b[0msteps_done\u001b[0m \u001b[0;34m<\u001b[0m \u001b[0msteps_per_epoch\u001b[0m\u001b[0;34m:\u001b[0m\u001b[0;34m\u001b[0m\u001b[0;34m\u001b[0m\u001b[0m\n\u001b[0;32m--> 181\u001b[0;31m                 \u001b[0mgenerator_output\u001b[0m \u001b[0;34m=\u001b[0m \u001b[0mnext\u001b[0m\u001b[0;34m(\u001b[0m\u001b[0moutput_generator\u001b[0m\u001b[0;34m)\u001b[0m\u001b[0;34m\u001b[0m\u001b[0;34m\u001b[0m\u001b[0m\n\u001b[0m\u001b[1;32m    182\u001b[0m \u001b[0;34m\u001b[0m\u001b[0m\n\u001b[1;32m    183\u001b[0m                 \u001b[0;32mif\u001b[0m \u001b[0;32mnot\u001b[0m \u001b[0mhasattr\u001b[0m\u001b[0;34m(\u001b[0m\u001b[0mgenerator_output\u001b[0m\u001b[0;34m,\u001b[0m \u001b[0;34m'__len__'\u001b[0m\u001b[0;34m)\u001b[0m\u001b[0;34m:\u001b[0m\u001b[0;34m\u001b[0m\u001b[0;34m\u001b[0m\u001b[0m\n",
      "\u001b[0;32m~/anaconda3/lib/python3.7/site-packages/keras/utils/data_utils.py\u001b[0m in \u001b[0;36mget\u001b[0;34m(self)\u001b[0m\n\u001b[1;32m    593\u001b[0m         \u001b[0;32mtry\u001b[0m\u001b[0;34m:\u001b[0m\u001b[0;34m\u001b[0m\u001b[0;34m\u001b[0m\u001b[0m\n\u001b[1;32m    594\u001b[0m             \u001b[0;32mwhile\u001b[0m \u001b[0mself\u001b[0m\u001b[0;34m.\u001b[0m\u001b[0mis_running\u001b[0m\u001b[0;34m(\u001b[0m\u001b[0;34m)\u001b[0m\u001b[0;34m:\u001b[0m\u001b[0;34m\u001b[0m\u001b[0;34m\u001b[0m\u001b[0m\n\u001b[0;32m--> 595\u001b[0;31m                 \u001b[0minputs\u001b[0m \u001b[0;34m=\u001b[0m \u001b[0mself\u001b[0m\u001b[0;34m.\u001b[0m\u001b[0mqueue\u001b[0m\u001b[0;34m.\u001b[0m\u001b[0mget\u001b[0m\u001b[0;34m(\u001b[0m\u001b[0mblock\u001b[0m\u001b[0;34m=\u001b[0m\u001b[0;32mTrue\u001b[0m\u001b[0;34m)\u001b[0m\u001b[0;34m.\u001b[0m\u001b[0mget\u001b[0m\u001b[0;34m(\u001b[0m\u001b[0;34m)\u001b[0m\u001b[0;34m\u001b[0m\u001b[0;34m\u001b[0m\u001b[0m\n\u001b[0m\u001b[1;32m    596\u001b[0m                 \u001b[0mself\u001b[0m\u001b[0;34m.\u001b[0m\u001b[0mqueue\u001b[0m\u001b[0;34m.\u001b[0m\u001b[0mtask_done\u001b[0m\u001b[0;34m(\u001b[0m\u001b[0;34m)\u001b[0m\u001b[0;34m\u001b[0m\u001b[0;34m\u001b[0m\u001b[0m\n\u001b[1;32m    597\u001b[0m                 \u001b[0;32mif\u001b[0m \u001b[0minputs\u001b[0m \u001b[0;32mis\u001b[0m \u001b[0;32mnot\u001b[0m \u001b[0;32mNone\u001b[0m\u001b[0;34m:\u001b[0m\u001b[0;34m\u001b[0m\u001b[0;34m\u001b[0m\u001b[0m\n",
      "\u001b[0;32m~/anaconda3/lib/python3.7/multiprocessing/pool.py\u001b[0m in \u001b[0;36mget\u001b[0;34m(self, timeout)\u001b[0m\n\u001b[1;32m    649\u001b[0m \u001b[0;34m\u001b[0m\u001b[0m\n\u001b[1;32m    650\u001b[0m     \u001b[0;32mdef\u001b[0m \u001b[0mget\u001b[0m\u001b[0;34m(\u001b[0m\u001b[0mself\u001b[0m\u001b[0;34m,\u001b[0m \u001b[0mtimeout\u001b[0m\u001b[0;34m=\u001b[0m\u001b[0;32mNone\u001b[0m\u001b[0;34m)\u001b[0m\u001b[0;34m:\u001b[0m\u001b[0;34m\u001b[0m\u001b[0;34m\u001b[0m\u001b[0m\n\u001b[0;32m--> 651\u001b[0;31m         \u001b[0mself\u001b[0m\u001b[0;34m.\u001b[0m\u001b[0mwait\u001b[0m\u001b[0;34m(\u001b[0m\u001b[0mtimeout\u001b[0m\u001b[0;34m)\u001b[0m\u001b[0;34m\u001b[0m\u001b[0;34m\u001b[0m\u001b[0m\n\u001b[0m\u001b[1;32m    652\u001b[0m         \u001b[0;32mif\u001b[0m \u001b[0;32mnot\u001b[0m \u001b[0mself\u001b[0m\u001b[0;34m.\u001b[0m\u001b[0mready\u001b[0m\u001b[0;34m(\u001b[0m\u001b[0;34m)\u001b[0m\u001b[0;34m:\u001b[0m\u001b[0;34m\u001b[0m\u001b[0;34m\u001b[0m\u001b[0m\n\u001b[1;32m    653\u001b[0m             \u001b[0;32mraise\u001b[0m \u001b[0mTimeoutError\u001b[0m\u001b[0;34m\u001b[0m\u001b[0;34m\u001b[0m\u001b[0m\n",
      "\u001b[0;32m~/anaconda3/lib/python3.7/multiprocessing/pool.py\u001b[0m in \u001b[0;36mwait\u001b[0;34m(self, timeout)\u001b[0m\n\u001b[1;32m    646\u001b[0m \u001b[0;34m\u001b[0m\u001b[0m\n\u001b[1;32m    647\u001b[0m     \u001b[0;32mdef\u001b[0m \u001b[0mwait\u001b[0m\u001b[0;34m(\u001b[0m\u001b[0mself\u001b[0m\u001b[0;34m,\u001b[0m \u001b[0mtimeout\u001b[0m\u001b[0;34m=\u001b[0m\u001b[0;32mNone\u001b[0m\u001b[0;34m)\u001b[0m\u001b[0;34m:\u001b[0m\u001b[0;34m\u001b[0m\u001b[0;34m\u001b[0m\u001b[0m\n\u001b[0;32m--> 648\u001b[0;31m         \u001b[0mself\u001b[0m\u001b[0;34m.\u001b[0m\u001b[0m_event\u001b[0m\u001b[0;34m.\u001b[0m\u001b[0mwait\u001b[0m\u001b[0;34m(\u001b[0m\u001b[0mtimeout\u001b[0m\u001b[0;34m)\u001b[0m\u001b[0;34m\u001b[0m\u001b[0;34m\u001b[0m\u001b[0m\n\u001b[0m\u001b[1;32m    649\u001b[0m \u001b[0;34m\u001b[0m\u001b[0m\n\u001b[1;32m    650\u001b[0m     \u001b[0;32mdef\u001b[0m \u001b[0mget\u001b[0m\u001b[0;34m(\u001b[0m\u001b[0mself\u001b[0m\u001b[0;34m,\u001b[0m \u001b[0mtimeout\u001b[0m\u001b[0;34m=\u001b[0m\u001b[0;32mNone\u001b[0m\u001b[0;34m)\u001b[0m\u001b[0;34m:\u001b[0m\u001b[0;34m\u001b[0m\u001b[0;34m\u001b[0m\u001b[0m\n",
      "\u001b[0;32m~/anaconda3/lib/python3.7/threading.py\u001b[0m in \u001b[0;36mwait\u001b[0;34m(self, timeout)\u001b[0m\n\u001b[1;32m    550\u001b[0m             \u001b[0msignaled\u001b[0m \u001b[0;34m=\u001b[0m \u001b[0mself\u001b[0m\u001b[0;34m.\u001b[0m\u001b[0m_flag\u001b[0m\u001b[0;34m\u001b[0m\u001b[0;34m\u001b[0m\u001b[0m\n\u001b[1;32m    551\u001b[0m             \u001b[0;32mif\u001b[0m \u001b[0;32mnot\u001b[0m \u001b[0msignaled\u001b[0m\u001b[0;34m:\u001b[0m\u001b[0;34m\u001b[0m\u001b[0;34m\u001b[0m\u001b[0m\n\u001b[0;32m--> 552\u001b[0;31m                 \u001b[0msignaled\u001b[0m \u001b[0;34m=\u001b[0m \u001b[0mself\u001b[0m\u001b[0;34m.\u001b[0m\u001b[0m_cond\u001b[0m\u001b[0;34m.\u001b[0m\u001b[0mwait\u001b[0m\u001b[0;34m(\u001b[0m\u001b[0mtimeout\u001b[0m\u001b[0;34m)\u001b[0m\u001b[0;34m\u001b[0m\u001b[0;34m\u001b[0m\u001b[0m\n\u001b[0m\u001b[1;32m    553\u001b[0m             \u001b[0;32mreturn\u001b[0m \u001b[0msignaled\u001b[0m\u001b[0;34m\u001b[0m\u001b[0;34m\u001b[0m\u001b[0m\n\u001b[1;32m    554\u001b[0m \u001b[0;34m\u001b[0m\u001b[0m\n",
      "\u001b[0;32m~/anaconda3/lib/python3.7/threading.py\u001b[0m in \u001b[0;36mwait\u001b[0;34m(self, timeout)\u001b[0m\n\u001b[1;32m    294\u001b[0m         \u001b[0;32mtry\u001b[0m\u001b[0;34m:\u001b[0m    \u001b[0;31m# restore state no matter what (e.g., KeyboardInterrupt)\u001b[0m\u001b[0;34m\u001b[0m\u001b[0;34m\u001b[0m\u001b[0m\n\u001b[1;32m    295\u001b[0m             \u001b[0;32mif\u001b[0m \u001b[0mtimeout\u001b[0m \u001b[0;32mis\u001b[0m \u001b[0;32mNone\u001b[0m\u001b[0;34m:\u001b[0m\u001b[0;34m\u001b[0m\u001b[0;34m\u001b[0m\u001b[0m\n\u001b[0;32m--> 296\u001b[0;31m                 \u001b[0mwaiter\u001b[0m\u001b[0;34m.\u001b[0m\u001b[0macquire\u001b[0m\u001b[0;34m(\u001b[0m\u001b[0;34m)\u001b[0m\u001b[0;34m\u001b[0m\u001b[0;34m\u001b[0m\u001b[0m\n\u001b[0m\u001b[1;32m    297\u001b[0m                 \u001b[0mgotit\u001b[0m \u001b[0;34m=\u001b[0m \u001b[0;32mTrue\u001b[0m\u001b[0;34m\u001b[0m\u001b[0;34m\u001b[0m\u001b[0m\n\u001b[1;32m    298\u001b[0m             \u001b[0;32melse\u001b[0m\u001b[0;34m:\u001b[0m\u001b[0;34m\u001b[0m\u001b[0;34m\u001b[0m\u001b[0m\n",
      "\u001b[0;31mKeyboardInterrupt\u001b[0m: "
     ]
    },
    {
     "name": "stderr",
     "output_type": "stream",
     "text": [
      "Traceback (most recent call last):\n",
      "Traceback (most recent call last):\n",
      "  File \"/home/feliximmohr/anaconda3/lib/python3.7/multiprocessing/process.py\", line 297, in _bootstrap\n",
      "    self.run()\n",
      "  File \"/home/feliximmohr/anaconda3/lib/python3.7/multiprocessing/process.py\", line 99, in run\n",
      "    self._target(*self._args, **self._kwargs)\n",
      "  File \"/home/feliximmohr/anaconda3/lib/python3.7/multiprocessing/pool.py\", line 121, in worker\n",
      "    result = (True, func(*args, **kwds))\n",
      "  File \"/home/feliximmohr/anaconda3/lib/python3.7/multiprocessing/process.py\", line 297, in _bootstrap\n",
      "    self.run()\n",
      "  File \"/home/feliximmohr/anaconda3/lib/python3.7/multiprocessing/process.py\", line 99, in run\n",
      "    self._target(*self._args, **self._kwargs)\n",
      "  File \"/home/feliximmohr/anaconda3/lib/python3.7/multiprocessing/pool.py\", line 121, in worker\n",
      "    result = (True, func(*args, **kwds))\n",
      "  File \"/home/feliximmohr/anaconda3/lib/python3.7/site-packages/keras/utils/data_utils.py\", line 401, in get_index\n",
      "    return _SHARED_SEQUENCES[uid][i]\n",
      "  File \"<ipython-input-66-4478a1034ab5>\", line 17, in __getitem__\n",
      "    data = pd.read_csv(self.filenames[idx])# * self.batch_size:(idx + 1) * self.batch_size])\n",
      "  File \"/home/feliximmohr/anaconda3/lib/python3.7/site-packages/pandas/io/parsers.py\", line 702, in parser_f\n",
      "    return _read(filepath_or_buffer, kwds)\n",
      "  File \"/home/feliximmohr/anaconda3/lib/python3.7/site-packages/keras/utils/data_utils.py\", line 401, in get_index\n",
      "    return _SHARED_SEQUENCES[uid][i]\n",
      "  File \"/home/feliximmohr/anaconda3/lib/python3.7/site-packages/pandas/io/parsers.py\", line 435, in _read\n",
      "    data = parser.read(nrows)\n",
      "  File \"/home/feliximmohr/anaconda3/lib/python3.7/site-packages/pandas/io/parsers.py\", line 1139, in read\n",
      "    ret = self._engine.read(nrows)\n",
      "  File \"/home/feliximmohr/anaconda3/lib/python3.7/site-packages/pandas/io/parsers.py\", line 1995, in read\n",
      "    data = self._reader.read(nrows)\n",
      "  File \"<ipython-input-66-4478a1034ab5>\", line 17, in __getitem__\n",
      "    data = pd.read_csv(self.filenames[idx])# * self.batch_size:(idx + 1) * self.batch_size])\n",
      "  File \"pandas/_libs/parsers.pyx\", line 899, in pandas._libs.parsers.TextReader.read\n",
      "  File \"/home/feliximmohr/anaconda3/lib/python3.7/site-packages/pandas/io/parsers.py\", line 702, in parser_f\n",
      "    return _read(filepath_or_buffer, kwds)\n",
      "  File \"pandas/_libs/parsers.pyx\", line 914, in pandas._libs.parsers.TextReader._read_low_memory\n",
      "  File \"/home/feliximmohr/anaconda3/lib/python3.7/site-packages/pandas/io/parsers.py\", line 435, in _read\n",
      "    data = parser.read(nrows)\n",
      "  File \"pandas/_libs/parsers.pyx\", line 991, in pandas._libs.parsers.TextReader._read_rows\n",
      "  File \"pandas/_libs/parsers.pyx\", line 1123, in pandas._libs.parsers.TextReader._convert_column_data\n",
      "  File \"/home/feliximmohr/anaconda3/lib/python3.7/site-packages/pandas/io/parsers.py\", line 1139, in read\n",
      "    ret = self._engine.read(nrows)\n",
      "  File \"/home/feliximmohr/anaconda3/lib/python3.7/site-packages/pandas/io/parsers.py\", line 1995, in read\n",
      "    data = self._reader.read(nrows)\n",
      "  File \"pandas/_libs/parsers.pyx\", line 1169, in pandas._libs.parsers.TextReader._convert_tokens\n",
      "  File \"pandas/_libs/parsers.pyx\", line 899, in pandas._libs.parsers.TextReader.read\n",
      "  File \"pandas/_libs/parsers.pyx\", line 1215, in pandas._libs.parsers.TextReader._convert_with_dtype\n",
      "  File \"pandas/_libs/parsers.pyx\", line 914, in pandas._libs.parsers.TextReader._read_low_memory\n",
      "  File \"/home/feliximmohr/anaconda3/lib/python3.7/site-packages/pandas/core/dtypes/common.py\", line 572, in is_categorical_dtype\n",
      "    def is_categorical_dtype(arr_or_dtype):\n",
      "  File \"pandas/_libs/parsers.pyx\", line 991, in pandas._libs.parsers.TextReader._read_rows\n",
      "KeyboardInterrupt\n",
      "  File \"pandas/_libs/parsers.pyx\", line 1123, in pandas._libs.parsers.TextReader._convert_column_data\n",
      "  File \"pandas/_libs/parsers.pyx\", line 1169, in pandas._libs.parsers.TextReader._convert_tokens\n",
      "  File \"pandas/_libs/parsers.pyx\", line 1215, in pandas._libs.parsers.TextReader._convert_with_dtype\n",
      "  File \"/home/feliximmohr/anaconda3/lib/python3.7/site-packages/pandas/core/dtypes/common.py\", line 572, in is_categorical_dtype\n",
      "    def is_categorical_dtype(arr_or_dtype):\n",
      "KeyboardInterrupt\n",
      "Process ForkPoolWorker-65:\n",
      "Traceback (most recent call last):\n",
      "Process ForkPoolWorker-67:\n",
      "Traceback (most recent call last):\n",
      "  File \"/home/feliximmohr/anaconda3/lib/python3.7/multiprocessing/process.py\", line 297, in _bootstrap\n",
      "    self.run()\n",
      "  File \"/home/feliximmohr/anaconda3/lib/python3.7/multiprocessing/process.py\", line 297, in _bootstrap\n",
      "    self.run()\n",
      "  File \"/home/feliximmohr/anaconda3/lib/python3.7/multiprocessing/process.py\", line 99, in run\n",
      "    self._target(*self._args, **self._kwargs)\n",
      "  File \"/home/feliximmohr/anaconda3/lib/python3.7/multiprocessing/process.py\", line 99, in run\n",
      "    self._target(*self._args, **self._kwargs)\n",
      "  File \"/home/feliximmohr/anaconda3/lib/python3.7/multiprocessing/pool.py\", line 121, in worker\n",
      "    result = (True, func(*args, **kwds))\n",
      "  File \"/home/feliximmohr/anaconda3/lib/python3.7/multiprocessing/pool.py\", line 121, in worker\n",
      "    result = (True, func(*args, **kwds))\n",
      "  File \"/home/feliximmohr/anaconda3/lib/python3.7/site-packages/keras/utils/data_utils.py\", line 401, in get_index\n",
      "    return _SHARED_SEQUENCES[uid][i]\n",
      "  File \"/home/feliximmohr/anaconda3/lib/python3.7/site-packages/keras/utils/data_utils.py\", line 401, in get_index\n",
      "    return _SHARED_SEQUENCES[uid][i]\n",
      "  File \"<ipython-input-66-4478a1034ab5>\", line 17, in __getitem__\n",
      "    data = pd.read_csv(self.filenames[idx])# * self.batch_size:(idx + 1) * self.batch_size])\n",
      "  File \"/home/feliximmohr/anaconda3/lib/python3.7/site-packages/pandas/io/parsers.py\", line 702, in parser_f\n",
      "    return _read(filepath_or_buffer, kwds)\n",
      "  File \"<ipython-input-66-4478a1034ab5>\", line 17, in __getitem__\n",
      "    data = pd.read_csv(self.filenames[idx])# * self.batch_size:(idx + 1) * self.batch_size])\n",
      "  File \"/home/feliximmohr/anaconda3/lib/python3.7/site-packages/pandas/io/parsers.py\", line 435, in _read\n",
      "    data = parser.read(nrows)\n",
      "  File \"/home/feliximmohr/anaconda3/lib/python3.7/site-packages/pandas/io/parsers.py\", line 702, in parser_f\n",
      "    return _read(filepath_or_buffer, kwds)\n",
      "  File \"/home/feliximmohr/anaconda3/lib/python3.7/site-packages/pandas/io/parsers.py\", line 1139, in read\n",
      "    ret = self._engine.read(nrows)\n",
      "  File \"/home/feliximmohr/anaconda3/lib/python3.7/site-packages/pandas/io/parsers.py\", line 1995, in read\n",
      "    data = self._reader.read(nrows)\n",
      "  File \"pandas/_libs/parsers.pyx\", line 899, in pandas._libs.parsers.TextReader.read\n",
      "  File \"/home/feliximmohr/anaconda3/lib/python3.7/site-packages/pandas/io/parsers.py\", line 435, in _read\n",
      "    data = parser.read(nrows)\n",
      "  File \"pandas/_libs/parsers.pyx\", line 914, in pandas._libs.parsers.TextReader._read_low_memory\n",
      "  File \"/home/feliximmohr/anaconda3/lib/python3.7/site-packages/pandas/io/parsers.py\", line 1139, in read\n",
      "    ret = self._engine.read(nrows)\n",
      "  File \"pandas/_libs/parsers.pyx\", line 991, in pandas._libs.parsers.TextReader._read_rows\n",
      "  File \"pandas/_libs/parsers.pyx\", line 1123, in pandas._libs.parsers.TextReader._convert_column_data\n",
      "  File \"/home/feliximmohr/anaconda3/lib/python3.7/site-packages/pandas/io/parsers.py\", line 1995, in read\n",
      "    data = self._reader.read(nrows)\n",
      "  File \"pandas/_libs/parsers.pyx\", line 1169, in pandas._libs.parsers.TextReader._convert_tokens\n",
      "  File \"pandas/_libs/parsers.pyx\", line 1215, in pandas._libs.parsers.TextReader._convert_with_dtype\n",
      "  File \"pandas/_libs/parsers.pyx\", line 899, in pandas._libs.parsers.TextReader.read\n",
      "  File \"pandas/_libs/parsers.pyx\", line 914, in pandas._libs.parsers.TextReader._read_low_memory\n",
      "  File \"pandas/_libs/parsers.pyx\", line 991, in pandas._libs.parsers.TextReader._read_rows\n",
      "  File \"/home/feliximmohr/anaconda3/lib/python3.7/site-packages/pandas/core/dtypes/common.py\", line 572, in is_categorical_dtype\n",
      "    def is_categorical_dtype(arr_or_dtype):\n",
      "  File \"pandas/_libs/parsers.pyx\", line 1123, in pandas._libs.parsers.TextReader._convert_column_data\n",
      "  File \"pandas/_libs/parsers.pyx\", line 1169, in pandas._libs.parsers.TextReader._convert_tokens\n",
      "KeyboardInterrupt\n",
      "  File \"pandas/_libs/parsers.pyx\", line 1215, in pandas._libs.parsers.TextReader._convert_with_dtype\n",
      "  File \"/home/feliximmohr/anaconda3/lib/python3.7/site-packages/pandas/core/dtypes/common.py\", line 572, in is_categorical_dtype\n",
      "    def is_categorical_dtype(arr_or_dtype):\n"
     ]
    },
    {
     "name": "stderr",
     "output_type": "stream",
     "text": [
      "KeyboardInterrupt\n"
     ]
    }
   ],
   "source": [
    "# model.fit_generator on batches of dataset\n",
    "\n",
    "model = simple_model()\n",
    "\n",
    "train_filenames = [data_dir + s for s in filelist[0:20]]\n",
    "valid_filenames = [data_dir + s for s in filelist[20:30]]\n",
    "\n",
    "# define generators\n",
    "train_batch_generator = data_generator(train_filenames, feature_label, target_label, 1)\n",
    "valid_batch_generator = data_generator(valid_filenames, feature_label, target_label, 1)\n",
    "\n",
    "history = model.fit_generator(generator = train_batch_generator,\n",
    "                              steps_per_epoch = (num_train_samples),# // batch_size),\n",
    "                              epochs = num_epochs,\n",
    "                              verbose = 1,\n",
    "                              validation_data = valid_batch_generator,\n",
    "                              validation_steps = (num_valid_samples),# // batch_size),\n",
    "                              use_multiprocessing = True,\n",
    "                              workers = 2,\n",
    "                              max_queue_size = 32)"
   ]
  },
  {
   "cell_type": "code",
   "execution_count": 20,
   "metadata": {
    "scrolled": false
   },
   "outputs": [
    {
     "name": "stdout",
     "output_type": "stream",
     "text": [
      "_________________________________________________________________\n",
      "Layer (type)                 Output Shape              Param #   \n",
      "=================================================================\n",
      "dense_19 (Dense)             (None, 128)               12416     \n",
      "_________________________________________________________________\n",
      "dense_20 (Dense)             (None, 128)               16512     \n",
      "_________________________________________________________________\n",
      "dense_21 (Dense)             (None, 1)                 129       \n",
      "=================================================================\n",
      "Total params: 29,057\n",
      "Trainable params: 29,057\n",
      "Non-trainable params: 0\n",
      "_________________________________________________________________\n",
      "Train on 504000 samples, validate on 216000 samples\n",
      "Epoch 1/30\n",
      "504000/504000 [==============================] - 45s 90us/step - loss: 1037.0904 - mean_absolute_error: 11.1196 - val_loss: 1004.7555 - val_mean_absolute_error: 10.3158\n",
      "Epoch 2/30\n",
      "504000/504000 [==============================] - 45s 90us/step - loss: 987.5117 - mean_absolute_error: 9.8604 - val_loss: 972.1070 - val_mean_absolute_error: 9.1658\n",
      "Epoch 3/30\n",
      "504000/504000 [==============================] - 45s 90us/step - loss: 978.8832 - mean_absolute_error: 9.6466 - val_loss: 970.1925 - val_mean_absolute_error: 9.2046\n",
      "Epoch 4/30\n",
      "504000/504000 [==============================] - 47s 93us/step - loss: 975.6839 - mean_absolute_error: 9.5443 - val_loss: 998.4081 - val_mean_absolute_error: 9.4177\n",
      "Epoch 5/30\n",
      "504000/504000 [==============================] - 46s 91us/step - loss: 973.5658 - mean_absolute_error: 9.4694 - val_loss: 974.2648 - val_mean_absolute_error: 9.3783\n",
      "Epoch 6/30\n",
      "504000/504000 [==============================] - 46s 91us/step - loss: 971.0228 - mean_absolute_error: 9.3903 - val_loss: 964.5631 - val_mean_absolute_error: 9.1455\n",
      "Epoch 7/30\n",
      "504000/504000 [==============================] - 47s 92us/step - loss: 969.6013 - mean_absolute_error: 9.3655 - val_loss: 980.4450 - val_mean_absolute_error: 8.8415\n",
      "Epoch 8/30\n",
      "504000/504000 [==============================] - 47s 92us/step - loss: 969.7971 - mean_absolute_error: 9.3526 - val_loss: 962.3117 - val_mean_absolute_error: 9.1323\n",
      "Epoch 9/30\n",
      "504000/504000 [==============================] - 45s 90us/step - loss: 967.4552 - mean_absolute_error: 9.3112 - val_loss: 965.8723 - val_mean_absolute_error: 9.4118\n",
      "Epoch 10/30\n",
      "504000/504000 [==============================] - 47s 93us/step - loss: 966.9661 - mean_absolute_error: 9.3065 - val_loss: 979.1658 - val_mean_absolute_error: 9.3019\n",
      "Epoch 11/30\n",
      "504000/504000 [==============================] - 46s 92us/step - loss: 965.8643 - mean_absolute_error: 9.2887 - val_loss: 967.2670 - val_mean_absolute_error: 8.9017\n",
      "Epoch 12/30\n",
      "504000/504000 [==============================] - 47s 94us/step - loss: 964.7206 - mean_absolute_error: 9.2600 - val_loss: 966.2711 - val_mean_absolute_error: 8.9363\n",
      "Epoch 13/30\n",
      "504000/504000 [==============================] - 46s 91us/step - loss: 965.9084 - mean_absolute_error: 9.2613 - val_loss: 962.5861 - val_mean_absolute_error: 9.2671\n",
      "Epoch 14/30\n",
      "504000/504000 [==============================] - 46s 92us/step - loss: 964.1743 - mean_absolute_error: 9.2309 - val_loss: 967.9716 - val_mean_absolute_error: 9.1916\n",
      "Epoch 15/30\n",
      "504000/504000 [==============================] - 46s 92us/step - loss: 964.0978 - mean_absolute_error: 9.2345 - val_loss: 962.8665 - val_mean_absolute_error: 8.8287\n",
      "Epoch 16/30\n",
      "504000/504000 [==============================] - 46s 90us/step - loss: 963.5527 - mean_absolute_error: 9.2114 - val_loss: 967.9145 - val_mean_absolute_error: 9.3022\n",
      "Epoch 17/30\n",
      "504000/504000 [==============================] - 45s 90us/step - loss: 963.2077 - mean_absolute_error: 9.2113 - val_loss: 974.1529 - val_mean_absolute_error: 10.0543\n",
      "Epoch 18/30\n",
      "504000/504000 [==============================] - 42s 82us/step - loss: 963.7337 - mean_absolute_error: 9.2090 - val_loss: 971.9681 - val_mean_absolute_error: 9.6503\n",
      "Epoch 19/30\n",
      "504000/504000 [==============================] - 51s 101us/step - loss: 963.9284 - mean_absolute_error: 9.2097 - val_loss: 963.5682 - val_mean_absolute_error: 9.2549\n",
      "Epoch 20/30\n",
      "504000/504000 [==============================] - 44s 87us/step - loss: 961.8894 - mean_absolute_error: 9.1851 - val_loss: 964.6851 - val_mean_absolute_error: 8.9173\n",
      "Epoch 21/30\n",
      "504000/504000 [==============================] - 45s 89us/step - loss: 963.3742 - mean_absolute_error: 9.1847 - val_loss: 964.6587 - val_mean_absolute_error: 9.2373\n",
      "Epoch 22/30\n",
      "504000/504000 [==============================] - 44s 88us/step - loss: 961.4403 - mean_absolute_error: 9.1675 - val_loss: 963.3673 - val_mean_absolute_error: 9.1554\n",
      "Epoch 23/30\n",
      "504000/504000 [==============================] - 47s 94us/step - loss: 961.3080 - mean_absolute_error: 9.1618 - val_loss: 967.3573 - val_mean_absolute_error: 9.5232\n",
      "Epoch 24/30\n",
      "504000/504000 [==============================] - 46s 90us/step - loss: 961.5069 - mean_absolute_error: 9.1675 - val_loss: 962.0367 - val_mean_absolute_error: 8.9134\n",
      "Epoch 25/30\n",
      "504000/504000 [==============================] - 44s 87us/step - loss: 961.9003 - mean_absolute_error: 9.1744 - val_loss: 965.3342 - val_mean_absolute_error: 8.7383\n",
      "Epoch 26/30\n",
      "504000/504000 [==============================] - 44s 87us/step - loss: 962.0656 - mean_absolute_error: 9.1423 - val_loss: 967.0010 - val_mean_absolute_error: 8.8161\n",
      "Epoch 27/30\n",
      "504000/504000 [==============================] - 44s 88us/step - loss: 961.4188 - mean_absolute_error: 9.1362 - val_loss: 959.8895 - val_mean_absolute_error: 8.8110\n",
      "Epoch 28/30\n",
      "504000/504000 [==============================] - 46s 92us/step - loss: 961.0879 - mean_absolute_error: 9.1434 - val_loss: 965.9469 - val_mean_absolute_error: 9.2622\n",
      "Epoch 29/30\n",
      "504000/504000 [==============================] - 47s 92us/step - loss: 960.9612 - mean_absolute_error: 9.1461 - val_loss: 966.1000 - val_mean_absolute_error: 8.8088\n",
      "Epoch 30/30\n",
      "504000/504000 [==============================] - 47s 92us/step - loss: 960.8182 - mean_absolute_error: 9.1295 - val_loss: 961.9842 - val_mean_absolute_error: 8.9505\n"
     ]
    }
   ],
   "source": [
    "# model.fit on entire dataset\n",
    "\n",
    "# load data\n",
    "data = pd.read_csv(data_dir+filelist[63])\n",
    "\n",
    "# create model\n",
    "model = simple_model()\n",
    "# split data into test and train data\n",
    "train, test = train_test_split(data, test_size=0.3)\n",
    "x_train = train[feature_label].values\n",
    "y_train = train[target_label].values\n",
    "x_test = test[feature_label].values\n",
    "y_test = test[target_label].values\n",
    "\n",
    "# start training\n",
    "history = model.fit(x_train, y_train,\n",
    "                    batch_size=batch_size,\n",
    "                    epochs=num_epochs,\n",
    "                    verbose=1,\n",
    "                    validation_data=(x_test, y_test))"
   ]
  },
  {
   "cell_type": "markdown",
   "metadata": {},
   "source": [
    "### Evaluation"
   ]
  },
  {
   "cell_type": "code",
   "execution_count": 21,
   "metadata": {},
   "outputs": [
    {
     "name": "stdout",
     "output_type": "stream",
     "text": [
      "Test loss: 961.9842245983548\n",
      "Test accuracy: 8.950497492860865\n"
     ]
    }
   ],
   "source": [
    "# evaluate model\n",
    "score = model.evaluate(x_test, y_test, verbose=0)\n",
    "print('Test loss:', score[0])\n",
    "print('Test accuracy:', score[1])"
   ]
  },
  {
   "cell_type": "code",
   "execution_count": 22,
   "metadata": {},
   "outputs": [
    {
     "data": {
      "image/png": "[encoded data removed]",
      "text/plain": [
       "<Figure size 432x288 with 1 Axes>"
      ]
     },
     "metadata": {
      "needs_background": "light"
     },
     "output_type": "display_data"
    }
   ],
   "source": [
    "# plot train history\n",
    "plt.plot(history.history['loss'])\n",
    "plt.plot(history.history['val_loss'])\n",
    "plt.title('Model loss')\n",
    "plt.ylabel('Loss')\n",
    "plt.xlabel('Epoch')\n",
    "plt.legend(['Train', 'Test'], loc='upper left')\n",
    "plt.show()"
   ]
  },
  {
   "cell_type": "code",
   "execution_count": 28,
   "metadata": {},
   "outputs": [],
   "source": [
    "test_data = pd.read_csv(data_dir+filelist[64])\n",
    "test_features = test_data[feature_label].values\n",
    "test_targets = test_data[target_label].values\n",
    "\n",
    "test_results = model.predict(test_features)"
   ]
  },
  {
   "cell_type": "code",
   "execution_count": 44,
   "metadata": {},
   "outputs": [
    {
     "data": {
      "text/plain": [
       "array([[-43.09604 ],\n",
       "       [-41.97457 ],\n",
       "       [-40.27143 ],\n",
       "       [-42.40689 ],\n",
       "       [-51.25809 ],\n",
       "       [-47.795383],\n",
       "       [-41.680664],\n",
       "       [-40.04858 ],\n",
       "       [-41.20377 ],\n",
       "       [-43.527718],\n",
       "       [-43.70068 ],\n",
       "       [-43.241783],\n",
       "       [-43.41486 ],\n",
       "       [-43.59616 ],\n",
       "       [-43.008316],\n",
       "       [-45.22016 ],\n",
       "       [-47.073814],\n",
       "       [-45.07606 ],\n",
       "       [-45.924603],\n",
       "       [-42.87644 ],\n",
       "       [-44.86952 ],\n",
       "       [-42.4915  ],\n",
       "       [-44.54048 ],\n",
       "       [-43.189713],\n",
       "       [-38.54527 ],\n",
       "       [-45.6082  ],\n",
       "       [-46.454388],\n",
       "       [-43.094475],\n",
       "       [-45.79251 ],\n",
       "       [-42.413013],\n",
       "       [-45.669136],\n",
       "       [-45.346924],\n",
       "       [-42.12968 ],\n",
       "       [-43.989872],\n",
       "       [-45.188152],\n",
       "       [-43.114494],\n",
       "       [-44.529297],\n",
       "       [-44.518604],\n",
       "       [-40.383392],\n",
       "       [-42.95581 ],\n",
       "       [-37.9258  ],\n",
       "       [-45.27312 ],\n",
       "       [-42.866634],\n",
       "       [-42.425434],\n",
       "       [-44.214466],\n",
       "       [-39.650444],\n",
       "       [-42.392776],\n",
       "       [-46.498203],\n",
       "       [-39.890884],\n",
       "       [-46.42911 ],\n",
       "       [-41.829388],\n",
       "       [-43.475815],\n",
       "       [-43.929886],\n",
       "       [-42.30426 ],\n",
       "       [-42.64887 ],\n",
       "       [-48.06428 ],\n",
       "       [-46.218975],\n",
       "       [-44.356533],\n",
       "       [-38.243275],\n",
       "       [-42.061466],\n",
       "       [-42.277363],\n",
       "       [-40.513756],\n",
       "       [-42.372158],\n",
       "       [-41.48906 ],\n",
       "       [-42.78859 ],\n",
       "       [-42.866417],\n",
       "       [-46.825623],\n",
       "       [-46.545994],\n",
       "       [-41.432846],\n",
       "       [-44.26578 ],\n",
       "       [-42.07468 ],\n",
       "       [-40.900932],\n",
       "       [-40.90898 ],\n",
       "       [-44.484764],\n",
       "       [-40.965916],\n",
       "       [-43.271015],\n",
       "       [-42.4383  ],\n",
       "       [-41.50949 ],\n",
       "       [-43.502163],\n",
       "       [-43.581417],\n",
       "       [-42.954395],\n",
       "       [-44.31183 ],\n",
       "       [-45.886196],\n",
       "       [-43.85535 ],\n",
       "       [-43.267807],\n",
       "       [-44.02606 ],\n",
       "       [-43.300533],\n",
       "       [-42.510086],\n",
       "       [-42.10122 ],\n",
       "       [-45.062435],\n",
       "       [-41.893856],\n",
       "       [-42.440422],\n",
       "       [-43.65203 ],\n",
       "       [-44.261986],\n",
       "       [-44.050854],\n",
       "       [-43.166878],\n",
       "       [-40.393764],\n",
       "       [-43.814632],\n",
       "       [-45.40175 ],\n",
       "       [-44.345146]], dtype=float32)"
      ]
     },
     "execution_count": 44,
     "metadata": {},
     "output_type": "execute_result"
    }
   ],
   "source": [
    "test_results[114000:114100]"
   ]
  },
  {
   "cell_type": "code",
   "execution_count": 42,
   "metadata": {},
   "outputs": [],
   "source": [
    "# Save history to json file\n",
    "import json\n",
    "with open('file.json', 'w') as f:\n",
    "    json.dump(history.history, f)"
   ]
  },
  {
   "cell_type": "code",
   "execution_count": 43,
   "metadata": {},
   "outputs": [],
   "source": [
    "from keras.models import load_model\n",
    "\n",
    "model.save('my_model.h5')  # creates a HDF5 file 'my_model.h5'\n",
    "del model  # deletes the existing model"
   ]
  },
  {
   "cell_type": "code",
   "execution_count": null,
   "metadata": {},
   "outputs": [],
   "source": []
  },
  {
   "cell_type": "code",
   "execution_count": null,
   "metadata": {},
   "outputs": [],
   "source": []
  }
 ],
 "metadata": {
  "kernelspec": {
   "display_name": "Python 3",
   "language": "python",
   "name": "python3"
  },
  "language_info": {
   "codemirror_mode": {
    "name": "ipython",
    "version": 3
   },
   "file_extension": ".py",
   "mimetype": "text/x-python",
   "name": "python",
   "nbconvert_exporter": "python",
   "pygments_lexer": "ipython3",
   "version": "3.7.3"
  }
 },
 "nbformat": 4,
 "nbformat_minor": 2
}
