{
 "cells": [
  {
   "cell_type": "markdown",
   "metadata": {},
   "source": [
    "## Test with Numpy"
   ]
  },
  {
   "cell_type": "code",
   "execution_count": 1,
   "metadata": {},
   "outputs": [],
   "source": [
    "import numpy as np\n",
    "\n",
    "def np_angle_diff_deg(a,b):\n",
    "    \"\"\"Calculates angle differences in degrees with numpy.\"\"\"\n",
    "    a = np.deg2rad(a)\n",
    "    b = np.deg2rad(b)\n",
    "    diff = np.arctan2(np.sin(a - b), np.cos(a - b))\n",
    "    return np.rad2deg(diff)\n",
    "\n",
    "def np_mae_wrap_angle(y_true, y_pred):\n",
    "    \"\"\"\n",
    "    Custom loss function based on MAE but with angles wrapped to 360 degree with numpy.\n",
    "    \"\"\"\n",
    "    diff = np_angle_diff_deg(y_pred, y_true)\n",
    "    return np.mean(np.abs(diff))"
   ]
  },
  {
   "cell_type": "code",
   "execution_count": 2,
   "metadata": {},
   "outputs": [
    {
     "name": "stdout",
     "output_type": "stream",
     "text": [
      "y_pred_1: -181.0    mae_1: 8.099999999999994\n",
      "\n",
      "y_pred_2: -183.0    mae_2: 7.499999999999997\n",
      "\n",
      "y_pred_3: -185.0    mae_3: 7.100000000000006\n",
      "\n",
      "y_pred_4: 175.0     mae_4: 7.1\n",
      "\n"
     ]
    }
   ],
   "source": [
    "# Some artificial ground truth data: 10 subjects, same features\n",
    "y_true = np.array([178.0, 169.0, 170.0, 173.0, 170.0, 171.0, 172.0, -170.0, -170.0, -172.0])\n",
    "\n",
    "# Some predictions: 10 times the same prediction based on the same features\n",
    "y_pred_1 = -181.0 * np.ones(10)\n",
    "y_pred_2 = -183.0 * np.ones(10)\n",
    "y_pred_3 = -185.0 * np.ones(10)\n",
    "y_pred_4 = 175.0 * np.ones(10)\n",
    "\n",
    "print('y_pred_1: {}    mae_1: {}\\n'.format(y_pred_1[0], np_mae_wrap_angle(y_true, y_pred_1)))\n",
    "print('y_pred_2: {}    mae_2: {}\\n'.format(y_pred_2[0], np_mae_wrap_angle(y_true, y_pred_2)))\n",
    "print('y_pred_3: {}    mae_3: {}\\n'.format(y_pred_3[0], np_mae_wrap_angle(y_true, y_pred_3)))\n",
    "print('y_pred_4: {}     mae_4: {}\\n'.format(y_pred_4[0], np_mae_wrap_angle(y_true, y_pred_4)))"
   ]
  },
  {
   "cell_type": "markdown",
   "metadata": {},
   "source": [
    "## Test with TensorFlow"
   ]
  },
  {
   "cell_type": "code",
   "execution_count": 3,
   "metadata": {
    "scrolled": true
   },
   "outputs": [],
   "source": [
    "import tensorflow as tf\n",
    "from numpy import pi\n",
    "\n",
    "def tf_mse_wrap_angle(y_true, y_pred):\n",
    "    \"\"\"\n",
    "    Custom loss function based on MSE but with angles wrapped to 360 degree.\n",
    "    Tensorflows atan2 is used. Therefore conversion to radiant and back is performed.\n",
    "    \"\"\"\n",
    "    diff = tf_angle_diff_deg(y_pred, y_true)\n",
    "    return tf.keras.backend.mean(tf.square(diff), axis=-1)\n",
    "\n",
    "def tf_mae_wrap_angle(y_true, y_pred):\n",
    "    \"\"\"\n",
    "    Custom loss function based on MAE but with angles wrapped to 360 degree.\n",
    "    Tensorflows atan2 is used. Therefore conversion to radiant and back is performed.\n",
    "    \"\"\"\n",
    "    diff = tf_angle_diff_deg(y_pred, y_true)\n",
    "    return tf.keras.backend.mean(tf.abs(diff), axis=-1)\n",
    "\n",
    "def tf_angle_diff_deg(a,b):\n",
    "    \"\"\"Calculates angle differences in degrees in tensorflow.\"\"\"\n",
    "    a = tf_deg2rad(a)\n",
    "    b = tf_deg2rad(b)\n",
    "    diff = tf.atan2(tf.sin(a - b), tf.cos(a - b))\n",
    "    return tf_rad2deg(diff)\n",
    "\n",
    "def tf_deg2rad(a):\n",
    "    \"\"\"Tensorflow compatible conversion from degree to radians.\"\"\"\n",
    "    return tf.divide(tf.multiply(a,pi),180)\n",
    "\n",
    "def tf_rad2deg(a):\n",
    "    \"\"\"Tensorflow compatible conversion from degree to radians.\"\"\"\n",
    "    return tf.divide(tf.multiply(a,180),pi)"
   ]
  },
  {
   "cell_type": "code",
   "execution_count": 4,
   "metadata": {},
   "outputs": [],
   "source": [
    "# Some artificial ground truth data: 10 subjects, same features\n",
    "y_true = tf.constant([178.0, 169.0, 170.0, 173.0, 170.0, 171.0, 172.0, -170.0, -170.0, -172.0],name='y_true')\n",
    "\n",
    "# Some predictions: 10 times the same prediction based on the same features\n",
    "y_pred_1 = tf.constant([-181.0 for i in range(10)],name='y_pred_1')\n",
    "y_pred_2 = tf.constant([-183.0 for i in range(10)],name='y_pred_2')\n",
    "y_pred_3 = tf.constant([-185.0 for i in range(10)],name='y_pred_3')\n",
    "y_pred_4 = tf.constant([175.0 for i in range(10)],name='y_pred_4')"
   ]
  },
  {
   "cell_type": "code",
   "execution_count": 5,
   "metadata": {},
   "outputs": [
    {
     "name": "stdout",
     "output_type": "stream",
     "text": [
      "y_pred_1: -181.0    mae_1: 8.099990844726562\n",
      "\n",
      "y_pred_2: -183.0    mae_2: 7.499998569488525\n",
      "\n",
      "y_pred_3: -185.0    mae_3: 7.100001335144043\n",
      "\n",
      "y_pred_4: 175.0     mae_4: 7.099999904632568\n",
      "\n"
     ]
    }
   ],
   "source": [
    "mae_1 = tf_mae_wrap_angle(y_true,y_pred_1)\n",
    "mae_2 = tf_mae_wrap_angle(y_true,y_pred_2)\n",
    "mae_3 = tf_mae_wrap_angle(y_true,y_pred_3)\n",
    "mae_4 = tf_mae_wrap_angle(y_true,y_pred_4)\n",
    "\n",
    "# Launch the graph in a session.\n",
    "with tf.compat.v1.Session() as sess:\n",
    "    # Run the Op that initializes global variables.\n",
    "    mae_1_out = sess.run(mae_1)\n",
    "    mae_2_out = sess.run(mae_2)\n",
    "    mae_3_out = sess.run(mae_3)\n",
    "    mae_4_out = sess.run(mae_4)\n",
    "    print('y_pred_1: {}    mae_1: {}\\n'.format(y_pred_1.eval()[0], mae_1_out))\n",
    "    print('y_pred_2: {}    mae_2: {}\\n'.format(y_pred_2.eval()[0], mae_2_out))\n",
    "    print('y_pred_3: {}    mae_3: {}\\n'.format(y_pred_3.eval()[0], mae_3_out))\n",
    "    print('y_pred_4: {}     mae_4: {}\\n'.format(y_pred_4.eval()[0], mae_4_out))"
   ]
  },
  {
   "cell_type": "code",
   "execution_count": null,
   "metadata": {},
   "outputs": [],
   "source": []
  }
 ],
 "metadata": {
  "kernelspec": {
   "display_name": "Python 3",
   "language": "python",
   "name": "python3"
  },
  "language_info": {
   "codemirror_mode": {
    "name": "ipython",
    "version": 3
   },
   "file_extension": ".py",
   "mimetype": "text/x-python",
   "name": "python",
   "nbconvert_exporter": "python",
   "pygments_lexer": "ipython3",
   "version": "3.7.3"
  }
 },
 "nbformat": 4,
 "nbformat_minor": 2
}
