{
 "cells": [
  {
   "cell_type": "code",
   "execution_count": null,
   "metadata": {},
   "outputs": [],
   "source": [
    "import numpy as np\n",
    "import pandas as pd\n",
    "import matplotlib.pyplot as plt"
   ]
  },
  {
   "cell_type": "markdown",
   "metadata": {},
   "source": [
    "### Load data"
   ]
  },
  {
   "cell_type": "code",
   "execution_count": null,
   "metadata": {},
   "outputs": [],
   "source": [
    "data_dir = '/media/feliximmohr/Storage/master_thesis/new_matlab09/generated/database/test/'"
   ]
  },
  {
   "cell_type": "code",
   "execution_count": null,
   "metadata": {},
   "outputs": [],
   "source": [
    "feature_data = pd.read_hdf(data_dir+'database_raw_redframes.h5', key='feature_data')\n",
    "target_data = pd.read_hdf(data_dir+'database_raw_redframes.h5', key='target_data')"
   ]
  },
  {
   "cell_type": "code",
   "execution_count": null,
   "metadata": {},
   "outputs": [],
   "source": [
    "IR_ref = pd.read_hdf(data_dir+'database_raw_redframes.h5', key='ID_reference_table')"
   ]
  },
  {
   "cell_type": "code",
   "execution_count": null,
   "metadata": {},
   "outputs": [],
   "source": [
    "cond_table = pd.read_hdf(data_dir+'database_raw_redframes.h5', key='condition_table')\n",
    "pos_table = pd.read_hdf(data_dir+'database_raw_redframes.h5', key='position_table')"
   ]
  },
  {
   "cell_type": "markdown",
   "metadata": {},
   "source": [
    "### Test"
   ]
  },
  {
   "cell_type": "code",
   "execution_count": null,
   "metadata": {},
   "outputs": [],
   "source": [
    "def plot_features(start_idx, stop_idx):\n",
    "    \"\"\"Plot features.\"\"\"\n",
    "    ild = feature_data.values[start_idx:stop_idx,:32]\n",
    "    itd = feature_data.values[start_idx:stop_idx,32:64]\n",
    "    ic = feature_data.values[start_idx:stop_idx,64:]\n",
    "    \n",
    "    # plot\n",
    "    plt.pcolormesh(ild.T)\n",
    "    plt.title('ILD')\n",
    "    plt.show()\n",
    "\n",
    "    plt.pcolormesh(itd.T)\n",
    "    plt.title('ITD')\n",
    "    plt.show()\n",
    "\n",
    "    plt.pcolormesh(ic.T)\n",
    "    plt.title('IC')\n",
    "    plt.show()\n",
    "    return 0"
   ]
  },
  {
   "cell_type": "code",
   "execution_count": null,
   "metadata": {},
   "outputs": [],
   "source": [
    "plot_features(172800,172810)"
   ]
  },
  {
   "cell_type": "code",
   "execution_count": null,
   "metadata": {},
   "outputs": [],
   "source": [
    "IR_ref.iloc[172800*20]"
   ]
  },
  {
   "cell_type": "code",
   "execution_count": null,
   "metadata": {},
   "outputs": [],
   "source": [
    "ID = 3456000 \n",
    "n_subjects = 20\n",
    "n_frames = 10\n",
    "feature_idx = np.floor(ID/n_subjects)#one feature row for all 20 subjects 0...19 -> f=0\n",
    "target_idx = np.floor(ID/(n_subjects*n_frames)) #one target row for 100 frames for each subject 0...1999 -> t=0\n",
    "subject_idx = ID - feature_idx*n_subjects"
   ]
  },
  {
   "cell_type": "code",
   "execution_count": null,
   "metadata": {},
   "outputs": [],
   "source": [
    "target_idx"
   ]
  },
  {
   "cell_type": "code",
   "execution_count": null,
   "metadata": {},
   "outputs": [],
   "source": [
    "subject_idx"
   ]
  },
  {
   "cell_type": "code",
   "execution_count": null,
   "metadata": {},
   "outputs": [],
   "source": [
    "target_data.iloc[int(target_idx)]"
   ]
  },
  {
   "cell_type": "code",
   "execution_count": null,
   "metadata": {},
   "outputs": [],
   "source": []
  }
 ],
 "metadata": {
  "kernelspec": {
   "display_name": "Python 3",
   "language": "python",
   "name": "python3"
  },
  "language_info": {
   "codemirror_mode": {
    "name": "ipython",
    "version": 3
   },
   "file_extension": ".py",
   "mimetype": "text/x-python",
   "name": "python",
   "nbconvert_exporter": "python",
   "pygments_lexer": "ipython3",
   "version": "3.7.3"
  }
 },
 "nbformat": 4,
 "nbformat_minor": 2
}
