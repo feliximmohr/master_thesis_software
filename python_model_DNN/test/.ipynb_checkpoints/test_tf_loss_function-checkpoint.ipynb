{
 "cells": [
  {
   "cell_type": "code",
   "execution_count": null,
   "metadata": {},
   "outputs": [],
   "source": [
    "import tensorflow as tf\n",
    "import custom_loss_functions as c_loss"
   ]
  },
  {
   "cell_type": "code",
   "execution_count": null,
   "metadata": {},
   "outputs": [],
   "source": [
    "testv1 = tf.constant([-10.0, 10.0, 170.0],name='testv1')\n",
    "testv2 = tf.constant([-30.0, -10.0, -170.0],name='testv2')"
   ]
  },
  {
   "cell_type": "code",
   "execution_count": null,
   "metadata": {},
   "outputs": [],
   "source": [
    "diff = c_loss.angle_diff_deg(testv1,testv2)\n",
    "mse = c_loss.mse_wrap_angle(testv1,testv2)\n",
    "mae = c_loss.mae_wrap_angle(testv1,testv2)"
   ]
  },
  {
   "cell_type": "code",
   "execution_count": null,
   "metadata": {},
   "outputs": [],
   "source": [
    "# Launch the graph in a session.\n",
    "with tf.compat.v1.Session() as sess:\n",
    "    # Run the Op that initializes global variables.\n",
    "    diff_out = sess.run(diff)\n",
    "    mse_out = sess.run(mse)\n",
    "    mae_out = sess.run(mae)\n",
    "    print(abs(diff_out))\n",
    "    print('\\nmse')\n",
    "    print(abs(mse_out))\n",
    "    print('\\nmae')\n",
    "    print(abs(mae_out))"
   ]
  }
 ],
 "metadata": {
  "kernelspec": {
   "display_name": "Python 3",
   "language": "python",
   "name": "python3"
  },
  "language_info": {
   "codemirror_mode": {
    "name": "ipython",
    "version": 3
   },
   "file_extension": ".py",
   "mimetype": "text/x-python",
   "name": "python",
   "nbconvert_exporter": "python",
   "pygments_lexer": "ipython3",
   "version": "3.7.3"
  }
 },
 "nbformat": 4,
 "nbformat_minor": 2
}
