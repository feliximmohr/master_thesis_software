{
 "cells": [
  {
   "cell_type": "code",
   "execution_count": 1,
   "metadata": {},
   "outputs": [],
   "source": [
    "import numpy as np\n",
    "import pandas as pd\n",
    "from os import walk"
   ]
  },
  {
   "cell_type": "code",
   "execution_count": 2,
   "metadata": {},
   "outputs": [],
   "source": [
    "# define dataset directory\n",
    "data_dir = '../../generated/database/'\n",
    "h5_dir = data_dir+'hdf5/'\n",
    "csv_dir = data_dir\n",
    "\n",
    "# load filelists\n",
    "filelist_h5 = []\n",
    "filelist_csv = []\n",
    "for (dirpath, dirnames, filenames) in walk(h5_dir):\n",
    "    filelist_h5.extend(filenames)\n",
    "for (dirpath, dirnames, filenames) in walk(csv_dir):\n",
    "    filelist_csv.extend(filenames)\n",
    "filelist_csv.sort()\n",
    "filelist_h5.sort()"
   ]
  },
  {
   "cell_type": "code",
   "execution_count": null,
   "metadata": {},
   "outputs": [],
   "source": [
    "df_h5 = pd.read_hdf(h5_dir+filelist_h5[1])\n",
    "df_csv = pd.read_csv(csv_dir+filelist_csv[1])"
   ]
  },
  {
   "cell_type": "code",
   "execution_count": null,
   "metadata": {},
   "outputs": [],
   "source": [
    "# compare\n",
    "df_h5.equals(df_csv)"
   ]
  },
  {
   "cell_type": "code",
   "execution_count": 3,
   "metadata": {},
   "outputs": [
    {
     "data": {
      "text/plain": [
       "23.11775175299954"
      ]
     },
     "execution_count": 3,
     "metadata": {},
     "output_type": "execute_result"
    }
   ],
   "source": [
    "import timeit\n",
    "# compare timings\n",
    "timeit.timeit('pd.read_hdf(h5_dir+filelist_h5[1])',globals=globals(),number=5)"
   ]
  },
  {
   "cell_type": "code",
   "execution_count": 7,
   "metadata": {},
   "outputs": [
    {
     "data": {
      "text/plain": [
       "271.898238572001"
      ]
     },
     "execution_count": 7,
     "metadata": {},
     "output_type": "execute_result"
    }
   ],
   "source": [
    "timeit.timeit('pd.read_csv(csv_dir+filelist_csv[2])',globals=globals(),number=5)"
   ]
  },
  {
   "cell_type": "code",
   "execution_count": null,
   "metadata": {},
   "outputs": [],
   "source": []
  }
 ],
 "metadata": {
  "kernelspec": {
   "display_name": "Python 3",
   "language": "python",
   "name": "python3"
  },
  "language_info": {
   "codemirror_mode": {
    "name": "ipython",
    "version": 3
   },
   "file_extension": ".py",
   "mimetype": "text/x-python",
   "name": "python",
   "nbconvert_exporter": "python",
   "pygments_lexer": "ipython3",
   "version": "3.7.3"
  }
 },
 "nbformat": 4,
 "nbformat_minor": 2
}
