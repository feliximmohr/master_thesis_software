{
 "cells": [
  {
   "cell_type": "code",
   "execution_count": 1,
   "metadata": {},
   "outputs": [
    {
     "name": "stderr",
     "output_type": "stream",
     "text": [
      "Using TensorFlow backend.\n"
     ]
    }
   ],
   "source": [
    "import pandas as pd\n",
    "import numpy as np\n",
    "\n",
    "from os import walk\n",
    "from os.path import splitext\n",
    "\n",
    "from load_data import get_metadata_from_filename"
   ]
  },
  {
   "cell_type": "code",
   "execution_count": 2,
   "metadata": {},
   "outputs": [],
   "source": [
    "# define dataset directory\n",
    "data_dir = '/media/feliximmohr/Storage/master_thesis/generated/database/hdf5/'\n",
    "export_dir = data_dir+'../single/'\n",
    "# load filelist\n",
    "filelist = []\n",
    "for (dirpath, dirnames, filenames) in walk(data_dir):\n",
    "    filelist.extend(filenames)"
   ]
  },
  {
   "cell_type": "code",
   "execution_count": null,
   "metadata": {
    "scrolled": false
   },
   "outputs": [],
   "source": [
    "# write each csv file's data to seperate HDF5 file\n",
    "for name in filelist:\n",
    "    # load csv\n",
    "    df = pd.read_csv(data_dir+name)\n",
    "    # save to HDF5\n",
    "    name_new, _ = splitext(name)\n",
    "    df.to_hdf(export_dir+name_new+'.h5', 'data', mode='w', format='table')"
   ]
  },
  {
   "cell_type": "code",
   "execution_count": null,
   "metadata": {
    "scrolled": false
   },
   "outputs": [],
   "source": [
    "# append to single large HDF5 file; each DF with individual key\n",
    "for name in filelist:\n",
    "    m, _, p, _ = get_metadata_from_filename(name)\n",
    "    key = m+'_'+p\n",
    "    # load file\n",
    "    df = pd.read_hdf(data_dir+name)\n",
    "    # save to HDF5\n",
    "    df.to_hdf(export_dir+'database.h5', key, mod='a', format='table')"
   ]
  },
  {
   "cell_type": "code",
   "execution_count": 3,
   "metadata": {
    "scrolled": true
   },
   "outputs": [
    {
     "name": "stdout",
     "output_type": "stream",
     "text": [
      "Appending Table 1\n",
      "Appending Table 2\n",
      "Appending Table 3\n",
      "Appending Table 4\n",
      "Appending Table 5\n",
      "Appending Table 6\n",
      "Appending Table 7\n",
      "Appending Table 8\n",
      "Appending Table 9\n",
      "Appending Table 10\n",
      "Appending Table 11\n",
      "Appending Table 12\n",
      "Appending Table 13\n",
      "Appending Table 14\n",
      "Appending Table 15\n",
      "Appending Table 16\n",
      "Appending Table 17\n",
      "Appending Table 18\n",
      "Appending Table 19\n",
      "Appending Table 20\n",
      "Appending Table 21\n",
      "Appending Table 22\n",
      "Appending Table 23\n",
      "Appending Table 24\n",
      "Appending Table 25\n",
      "Appending Table 26\n",
      "Appending Table 27\n",
      "Appending Table 28\n",
      "Appending Table 29\n",
      "Appending Table 30\n",
      "Appending Table 31\n",
      "Appending Table 32\n",
      "Appending Table 33\n",
      "Appending Table 34\n",
      "Appending Table 35\n",
      "Appending Table 36\n",
      "Appending Table 37\n",
      "Appending Table 38\n",
      "Appending Table 39\n",
      "Appending Table 40\n",
      "Appending Table 41\n",
      "Appending Table 42\n",
      "Appending Table 43\n",
      "Appending Table 44\n",
      "Appending Table 45\n",
      "Appending Table 46\n",
      "Appending Table 47\n",
      "Appending Table 48\n",
      "Appending Table 49\n",
      "Appending Table 50\n",
      "Appending Table 51\n",
      "Appending Table 52\n",
      "Appending Table 53\n",
      "Appending Table 54\n",
      "Appending Table 55\n",
      "Appending Table 56\n",
      "Appending Table 57\n",
      "Appending Table 58\n",
      "Appending Table 59\n",
      "Appending Table 60\n",
      "Appending Table 61\n",
      "Appending Table 62\n",
      "Appending Table 63\n",
      "Appending Table 64\n",
      "Appending Table 65\n",
      "Appending Table 66\n",
      "Appending Table 67\n",
      "Appending Table 68\n",
      "Appending Table 69\n",
      "Appending Table 70\n",
      "Appending Table 71\n",
      "Appending Table 72\n",
      "Appending Table 73\n",
      "Appending Table 74\n",
      "Appending Table 75\n",
      "Appending Table 76\n",
      "Appending Table 77\n",
      "Appending Table 78\n",
      "Appending Table 79\n",
      "Appending Table 80\n",
      "Appending Table 81\n",
      "Appending Table 82\n",
      "Appending Table 83\n",
      "Appending Table 84\n",
      "Appending Table 85\n",
      "Appending Table 86\n",
      "Appending Table 87\n",
      "Appending Table 88\n",
      "Appending Table 89\n",
      "Appending Table 90\n",
      "Appending Table 91\n",
      "Appending Table 92\n",
      "Appending Table 93\n",
      "Appending Table 94\n",
      "Appending Table 95\n",
      "Appending Table 96\n",
      "Appending Table 97\n",
      "Appending Table 98\n",
      "Appending Table 99\n",
      "Appending Table 100\n",
      "Appending Table 101\n",
      "Appending Table 102\n",
      "Appending Table 103\n",
      "Appending Table 104\n",
      "Appending Table 105\n",
      "Appending Table 106\n",
      "Appending Table 107\n",
      "Appending Table 108\n",
      "Appending Table 109\n",
      "Appending Table 110\n",
      "Appending Table 111\n",
      "Appending Table 112\n",
      "Appending Table 113\n",
      "Appending Table 114\n",
      "Appending Table 115\n",
      "Appending Table 116\n",
      "Appending Table 117\n",
      "Appending Table 118\n",
      "Appending Table 119\n",
      "Appending Table 120\n",
      "Appending Table 121\n",
      "Appending Table 122\n",
      "Appending Table 123\n",
      "Appending Table 124\n",
      "Appending Table 125\n",
      "Appending Table 126\n",
      "Appending Table 127\n",
      "Appending Table 128\n",
      "Appending Table 129\n",
      "Appending Table 130\n",
      "Appending Table 131\n",
      "Appending Table 132\n",
      "Appending Table 133\n",
      "Appending Table 134\n",
      "Appending Table 135\n",
      "Appending Table 136\n",
      "Appending Table 137\n",
      "Appending Table 138\n",
      "Appending Table 139\n",
      "Appending Table 140\n",
      "Appending Table 141\n",
      "Appending Table 142\n",
      "Appending Table 143\n",
      "Appending Table 144\n",
      "Appending Table 145\n",
      "Appending Table 146\n",
      "Appending Table 147\n",
      "Appending Table 148\n",
      "Appending Table 149\n",
      "Appending Table 150\n"
     ]
    }
   ],
   "source": [
    "# append to single large HDF5 file; all DF appended with single key\n",
    "\n",
    "h5_file = pd.HDFStore(export_dir+'database.h5')#, complevel=5, complib='blosc')\n",
    "\n",
    "counter = 1\n",
    "for name in filelist:\n",
    "    print('Appending Table {}'.format(counter))\n",
    "    df = pd.read_hdf(data_dir+name)\n",
    "    df2 = df.astype({'x':'float64', 'y':'float64'})\n",
    "    h5_file.append('database', df2)#, complevel=5, complib='blosc')\n",
    "    counter += 1\n",
    "    \n",
    "h5_file.close()"
   ]
  },
  {
   "cell_type": "code",
   "execution_count": null,
   "metadata": {
    "scrolled": true
   },
   "outputs": [],
   "source": [
    "data = pd.read_hdf(export_dir+'database.h5')#,where=[np.arange(720000).tolist()])"
   ]
  },
  {
   "cell_type": "code",
   "execution_count": null,
   "metadata": {},
   "outputs": [],
   "source": []
  },
  {
   "cell_type": "code",
   "execution_count": null,
   "metadata": {},
   "outputs": [],
   "source": [
    "#columns = ['col{}'.format(i) for i in range(100)]\n",
    "data = np.random.randn(100000).reshape(1000, 100)\n",
    "df = pd.DataFrame(data, columns=columns)\n",
    "\n",
    "# many tables, generator\n",
    "def get_generator(df, n=1000):\n",
    "    for x in range(n):\n",
    "        yield df\n",
    "\n",
    "table_reader = get_generator(df, n=10)"
   ]
  },
  {
   "cell_type": "code",
   "execution_count": null,
   "metadata": {},
   "outputs": [],
   "source": [
    "h5_file.close()"
   ]
  },
  {
   "cell_type": "code",
   "execution_count": null,
   "metadata": {},
   "outputs": [],
   "source": []
  },
  {
   "cell_type": "code",
   "execution_count": null,
   "metadata": {},
   "outputs": [],
   "source": []
  }
 ],
 "metadata": {
  "kernelspec": {
   "display_name": "Python 3",
   "language": "python",
   "name": "python3"
  },
  "language_info": {
   "codemirror_mode": {
    "name": "ipython",
    "version": 3
   },
   "file_extension": ".py",
   "mimetype": "text/x-python",
   "name": "python",
   "nbconvert_exporter": "python",
   "pygments_lexer": "ipython3",
   "version": "3.7.3"
  }
 },
 "nbformat": 4,
 "nbformat_minor": 2
}
