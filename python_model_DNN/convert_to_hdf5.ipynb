{
 "cells": [
  {
   "cell_type": "code",
   "execution_count": 2,
   "metadata": {},
   "outputs": [],
   "source": [
    "import pandas as pd\n",
    "import numpy as np\n",
    "\n",
    "from os import walk"
   ]
  },
  {
   "cell_type": "code",
   "execution_count": 3,
   "metadata": {},
   "outputs": [],
   "source": [
    "# define dataset directory\n",
    "data_dir = '/media/feliximmohr/Storage/master_thesis/generated/database/' \n",
    "# load filelist\n",
    "filelist = []\n",
    "for (dirpath, dirnames, filenames) in walk(data_dir):\n",
    "    filelist.extend(filenames)\n"
   ]
  },
  {
   "cell_type": "code",
   "execution_count": 5,
   "metadata": {},
   "outputs": [],
   "source": [
    "filename = 'test.h5'\n",
    "\n",
    "df = pd.read_csv(data_dir+filelist[1])\n",
    "\n",
    "# Save to HDF5\n",
    "df.to_hdf(filename, 'data', mode='w', format='table')\n",
    "del df    # allow df to be garbage collected\n",
    "\n",
    "# Append more data\n",
    "df2 = pd.read_csv(data_dir+filelist[2])\n",
    "df2.to_hdf(filename, 'data', append=True)"
   ]
  },
  {
   "cell_type": "code",
   "execution_count": null,
   "metadata": {},
   "outputs": [],
   "source": []
  }
 ],
 "metadata": {
  "kernelspec": {
   "display_name": "Python 3",
   "language": "python",
   "name": "python3"
  },
  "language_info": {
   "codemirror_mode": {
    "name": "ipython",
    "version": 3
   },
   "file_extension": ".py",
   "mimetype": "text/x-python",
   "name": "python",
   "nbconvert_exporter": "python",
   "pygments_lexer": "ipython3",
   "version": "3.7.3"
  }
 },
 "nbformat": 4,
 "nbformat_minor": 2
}
