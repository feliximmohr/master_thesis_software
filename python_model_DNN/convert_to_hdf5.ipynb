{
 "cells": [
  {
   "cell_type": "code",
   "execution_count": 1,
   "metadata": {},
   "outputs": [],
   "source": [
    "import pandas as pd\n",
    "import numpy as np\n",
    "\n",
    "from os import walk\n",
    "from os.path import splitext"
   ]
  },
  {
   "cell_type": "code",
   "execution_count": 2,
   "metadata": {},
   "outputs": [],
   "source": [
    "# define dataset directory\n",
    "data_dir = '/media/feliximmohr/Storage/master_thesis/generated/database/'\n",
    "export_dir = data_dir+'hdf5/'\n",
    "# load filelist\n",
    "filelist = []\n",
    "for (dirpath, dirnames, filenames) in walk(data_dir):\n",
    "    filelist.extend(filenames)"
   ]
  },
  {
   "cell_type": "code",
   "execution_count": 3,
   "metadata": {
    "scrolled": false
   },
   "outputs": [],
   "source": [
    "# write each file's date to HDF5 file\n",
    "for name in filelist:\n",
    "    # load csv\n",
    "    df = pd.read_csv(data_dir+name)\n",
    "    # save to HDF5\n",
    "    name_new, _ = splitext(name)\n",
    "    df.to_hdf(export_dir+name_new+'.h5', 'data', mode='w', format='table')"
   ]
  },
  {
   "cell_type": "code",
   "execution_count": null,
   "metadata": {
    "scrolled": false
   },
   "outputs": [],
   "source": [
    "# deprecated\n",
    "#filename = 'test.h5'\n",
    "\n",
    "#df = pd.read_csv(data_dir+filelist[1])\n",
    "\n",
    "# Save to HDF5\n",
    "#df.to_hdf(filename, 'data', mode='w', format='table')\n",
    "#del df    # allow df to be garbage collected\n",
    "\n",
    "# Append more data\n",
    "#df2 = pd.read_csv(data_dir+filelist[2])\n",
    "#df2.to_hdf(filename, 'data', append=True)"
   ]
  },
  {
   "cell_type": "code",
   "execution_count": null,
   "metadata": {},
   "outputs": [],
   "source": []
  }
 ],
 "metadata": {
  "kernelspec": {
   "display_name": "Python 3",
   "language": "python",
   "name": "python3"
  },
  "language_info": {
   "codemirror_mode": {
    "name": "ipython",
    "version": 3
   },
   "file_extension": ".py",
   "mimetype": "text/x-python",
   "name": "python",
   "nbconvert_exporter": "python",
   "pygments_lexer": "ipython3",
   "version": "3.7.3"
  }
 },
 "nbformat": 4,
 "nbformat_minor": 2
}
